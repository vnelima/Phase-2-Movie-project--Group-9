{
 "cells": [
  {
   "cell_type": "markdown",
   "metadata": {},
   "source": [
    "### Objective:  How do movie release dates vary by month, and what are the peak release times?"
   ]
  },
  {
   "cell_type": "markdown",
   "metadata": {},
   "source": [
    "### 1. Loading and Inspecting the data"
   ]
  },
  {
   "cell_type": "code",
   "execution_count": 1,
<<<<<<< HEAD
=======
=======
   "execution_count": 16,
>>>>>>> f3ced3340afea1566435df400942b1ccf7196781
>>>>>>> 4e3d2d47e21fd13e0235b1ce73ce8df18498fabe
   "metadata": {},
   "outputs": [],
   "source": [
    "import pandas as pd\n",
    "import numpy as np\n",
    "import matplotlib.pyplot as plt\n",
    "import seaborn as sns\n",
    "import scipy.stats as stats\n"
   ]
  },
  {
   "cell_type": "code",
   "execution_count": 17,
   "metadata": {},
   "outputs": [],
   "source": [
    "file_path=('../../DataSets/tmdb.movies.csv')\n",
    "tmdb_df = pd.read_csv(file_path, index_col=0)"
   ]
  },
  {
   "cell_type": "code",
   "execution_count": 18,
   "metadata": {},
   "outputs": [
    {
     "data": {
      "text/html": [
       "<div>\n",
       "<style scoped>\n",
       "    .dataframe tbody tr th:only-of-type {\n",
       "        vertical-align: middle;\n",
       "    }\n",
       "\n",
       "    .dataframe tbody tr th {\n",
       "        vertical-align: top;\n",
       "    }\n",
       "\n",
       "    .dataframe thead th {\n",
       "        text-align: right;\n",
       "    }\n",
       "</style>\n",
       "<table border=\"1\" class=\"dataframe\">\n",
       "  <thead>\n",
       "    <tr style=\"text-align: right;\">\n",
       "      <th></th>\n",
       "      <th>genre_ids</th>\n",
       "      <th>id</th>\n",
       "      <th>original_language</th>\n",
       "      <th>original_title</th>\n",
       "      <th>popularity</th>\n",
       "      <th>release_date</th>\n",
       "      <th>title</th>\n",
       "      <th>vote_average</th>\n",
       "      <th>vote_count</th>\n",
       "    </tr>\n",
       "  </thead>\n",
       "  <tbody>\n",
       "    <tr>\n",
       "      <th>0</th>\n",
       "      <td>[12, 14, 10751]</td>\n",
       "      <td>12444</td>\n",
       "      <td>en</td>\n",
       "      <td>Harry Potter and the Deathly Hallows: Part 1</td>\n",
       "      <td>33.533</td>\n",
       "      <td>2010-11-19</td>\n",
       "      <td>Harry Potter and the Deathly Hallows: Part 1</td>\n",
       "      <td>7.7</td>\n",
       "      <td>10788</td>\n",
       "    </tr>\n",
       "    <tr>\n",
       "      <th>1</th>\n",
       "      <td>[14, 12, 16, 10751]</td>\n",
       "      <td>10191</td>\n",
       "      <td>en</td>\n",
       "      <td>How to Train Your Dragon</td>\n",
       "      <td>28.734</td>\n",
       "      <td>2010-03-26</td>\n",
       "      <td>How to Train Your Dragon</td>\n",
       "      <td>7.7</td>\n",
       "      <td>7610</td>\n",
       "    </tr>\n",
       "    <tr>\n",
       "      <th>2</th>\n",
       "      <td>[12, 28, 878]</td>\n",
       "      <td>10138</td>\n",
       "      <td>en</td>\n",
       "      <td>Iron Man 2</td>\n",
       "      <td>28.515</td>\n",
       "      <td>2010-05-07</td>\n",
       "      <td>Iron Man 2</td>\n",
       "      <td>6.8</td>\n",
       "      <td>12368</td>\n",
       "    </tr>\n",
       "    <tr>\n",
       "      <th>3</th>\n",
       "      <td>[16, 35, 10751]</td>\n",
       "      <td>862</td>\n",
       "      <td>en</td>\n",
       "      <td>Toy Story</td>\n",
       "      <td>28.005</td>\n",
       "      <td>1995-11-22</td>\n",
       "      <td>Toy Story</td>\n",
       "      <td>7.9</td>\n",
       "      <td>10174</td>\n",
       "    </tr>\n",
       "    <tr>\n",
       "      <th>4</th>\n",
       "      <td>[28, 878, 12]</td>\n",
       "      <td>27205</td>\n",
       "      <td>en</td>\n",
       "      <td>Inception</td>\n",
       "      <td>27.920</td>\n",
       "      <td>2010-07-16</td>\n",
       "      <td>Inception</td>\n",
       "      <td>8.3</td>\n",
       "      <td>22186</td>\n",
       "    </tr>\n",
       "  </tbody>\n",
       "</table>\n",
       "</div>"
      ],
      "text/plain": [
       "             genre_ids     id original_language  \\\n",
       "0      [12, 14, 10751]  12444                en   \n",
       "1  [14, 12, 16, 10751]  10191                en   \n",
       "2        [12, 28, 878]  10138                en   \n",
       "3      [16, 35, 10751]    862                en   \n",
       "4        [28, 878, 12]  27205                en   \n",
       "\n",
       "                                 original_title  popularity release_date  \\\n",
       "0  Harry Potter and the Deathly Hallows: Part 1      33.533   2010-11-19   \n",
       "1                      How to Train Your Dragon      28.734   2010-03-26   \n",
       "2                                    Iron Man 2      28.515   2010-05-07   \n",
       "3                                     Toy Story      28.005   1995-11-22   \n",
       "4                                     Inception      27.920   2010-07-16   \n",
       "\n",
       "                                          title  vote_average  vote_count  \n",
       "0  Harry Potter and the Deathly Hallows: Part 1           7.7       10788  \n",
       "1                      How to Train Your Dragon           7.7        7610  \n",
       "2                                    Iron Man 2           6.8       12368  \n",
       "3                                     Toy Story           7.9       10174  \n",
       "4                                     Inception           8.3       22186  "
      ]
     },
     "execution_count": 18,
     "metadata": {},
     "output_type": "execute_result"
    }
   ],
   "source": [
    "tmdb_df.head()"
   ]
  },
  {
   "cell_type": "code",
   "execution_count": 19,
   "metadata": {},
   "outputs": [
    {
     "data": {
      "text/html": [
       "<div>\n",
       "<style scoped>\n",
       "    .dataframe tbody tr th:only-of-type {\n",
       "        vertical-align: middle;\n",
       "    }\n",
       "\n",
       "    .dataframe tbody tr th {\n",
       "        vertical-align: top;\n",
       "    }\n",
       "\n",
       "    .dataframe thead th {\n",
       "        text-align: right;\n",
       "    }\n",
       "</style>\n",
       "<table border=\"1\" class=\"dataframe\">\n",
       "  <thead>\n",
       "    <tr style=\"text-align: right;\">\n",
       "      <th></th>\n",
       "      <th>id</th>\n",
       "      <th>release_date</th>\n",
       "      <th>movie</th>\n",
       "      <th>production_budget</th>\n",
       "      <th>domestic_gross</th>\n",
       "      <th>worldwide_gross</th>\n",
       "    </tr>\n",
       "  </thead>\n",
       "  <tbody>\n",
       "    <tr>\n",
       "      <th>0</th>\n",
       "      <td>1</td>\n",
       "      <td>Dec 18, 2009</td>\n",
       "      <td>Avatar</td>\n",
       "      <td>$425,000,000</td>\n",
       "      <td>$760,507,625</td>\n",
       "      <td>$2,776,345,279</td>\n",
       "    </tr>\n",
       "    <tr>\n",
       "      <th>1</th>\n",
       "      <td>2</td>\n",
       "      <td>May 20, 2011</td>\n",
       "      <td>Pirates of the Caribbean: On Stranger Tides</td>\n",
       "      <td>$410,600,000</td>\n",
       "      <td>$241,063,875</td>\n",
       "      <td>$1,045,663,875</td>\n",
       "    </tr>\n",
       "    <tr>\n",
       "      <th>2</th>\n",
       "      <td>3</td>\n",
       "      <td>Jun 7, 2019</td>\n",
       "      <td>Dark Phoenix</td>\n",
       "      <td>$350,000,000</td>\n",
       "      <td>$42,762,350</td>\n",
       "      <td>$149,762,350</td>\n",
       "    </tr>\n",
       "    <tr>\n",
       "      <th>3</th>\n",
       "      <td>4</td>\n",
       "      <td>May 1, 2015</td>\n",
       "      <td>Avengers: Age of Ultron</td>\n",
       "      <td>$330,600,000</td>\n",
       "      <td>$459,005,868</td>\n",
       "      <td>$1,403,013,963</td>\n",
       "    </tr>\n",
       "    <tr>\n",
       "      <th>4</th>\n",
       "      <td>5</td>\n",
       "      <td>Dec 15, 2017</td>\n",
       "      <td>Star Wars Ep. VIII: The Last Jedi</td>\n",
       "      <td>$317,000,000</td>\n",
       "      <td>$620,181,382</td>\n",
       "      <td>$1,316,721,747</td>\n",
       "    </tr>\n",
       "  </tbody>\n",
       "</table>\n",
       "</div>"
      ],
      "text/plain": [
       "   id  release_date                                        movie  \\\n",
       "0   1  Dec 18, 2009                                       Avatar   \n",
       "1   2  May 20, 2011  Pirates of the Caribbean: On Stranger Tides   \n",
       "2   3   Jun 7, 2019                                 Dark Phoenix   \n",
       "3   4   May 1, 2015                      Avengers: Age of Ultron   \n",
       "4   5  Dec 15, 2017            Star Wars Ep. VIII: The Last Jedi   \n",
       "\n",
       "  production_budget domestic_gross worldwide_gross  \n",
       "0      $425,000,000   $760,507,625  $2,776,345,279  \n",
       "1      $410,600,000   $241,063,875  $1,045,663,875  \n",
       "2      $350,000,000    $42,762,350    $149,762,350  \n",
       "3      $330,600,000   $459,005,868  $1,403,013,963  \n",
       "4      $317,000,000   $620,181,382  $1,316,721,747  "
      ]
     },
     "execution_count": 19,
     "metadata": {},
     "output_type": "execute_result"
    }
   ],
   "source": [
    "budget = pd.read_csv(\"../../DataSets/tn.movie_budgets.csv\")\n",
    "budget.head()"
   ]
  },
  {
   "cell_type": "code",
   "execution_count": 20,
   "metadata": {},
   "outputs": [
    {
     "data": {
      "text/html": [
       "<div>\n",
       "<style scoped>\n",
       "    .dataframe tbody tr th:only-of-type {\n",
       "        vertical-align: middle;\n",
       "    }\n",
       "\n",
       "    .dataframe tbody tr th {\n",
       "        vertical-align: top;\n",
       "    }\n",
       "\n",
       "    .dataframe thead th {\n",
       "        text-align: right;\n",
       "    }\n",
       "</style>\n",
       "<table border=\"1\" class=\"dataframe\">\n",
       "  <thead>\n",
       "    <tr style=\"text-align: right;\">\n",
       "      <th></th>\n",
       "      <th>genre_ids</th>\n",
       "      <th>id</th>\n",
       "      <th>original_language</th>\n",
       "      <th>original_title</th>\n",
       "      <th>popularity</th>\n",
       "      <th>release_date</th>\n",
       "      <th>title</th>\n",
       "      <th>vote_average</th>\n",
       "      <th>vote_count</th>\n",
       "    </tr>\n",
       "  </thead>\n",
       "  <tbody>\n",
       "    <tr>\n",
       "      <th>0</th>\n",
       "      <td>[12, 14, 10751]</td>\n",
       "      <td>12444</td>\n",
       "      <td>en</td>\n",
       "      <td>Harry Potter and the Deathly Hallows: Part 1</td>\n",
       "      <td>33.533</td>\n",
       "      <td>2010-11-19</td>\n",
       "      <td>Harry Potter and the Deathly Hallows: Part 1</td>\n",
       "      <td>7.7</td>\n",
       "      <td>10788</td>\n",
       "    </tr>\n",
       "    <tr>\n",
       "      <th>1</th>\n",
       "      <td>[14, 12, 16, 10751]</td>\n",
       "      <td>10191</td>\n",
       "      <td>en</td>\n",
       "      <td>How to Train Your Dragon</td>\n",
       "      <td>28.734</td>\n",
       "      <td>2010-03-26</td>\n",
       "      <td>How to Train Your Dragon</td>\n",
       "      <td>7.7</td>\n",
       "      <td>7610</td>\n",
       "    </tr>\n",
       "    <tr>\n",
       "      <th>2</th>\n",
       "      <td>[12, 28, 878]</td>\n",
       "      <td>10138</td>\n",
       "      <td>en</td>\n",
       "      <td>Iron Man 2</td>\n",
       "      <td>28.515</td>\n",
       "      <td>2010-05-07</td>\n",
       "      <td>Iron Man 2</td>\n",
       "      <td>6.8</td>\n",
       "      <td>12368</td>\n",
       "    </tr>\n",
       "    <tr>\n",
       "      <th>3</th>\n",
       "      <td>[16, 35, 10751]</td>\n",
       "      <td>862</td>\n",
       "      <td>en</td>\n",
       "      <td>Toy Story</td>\n",
       "      <td>28.005</td>\n",
       "      <td>1995-11-22</td>\n",
       "      <td>Toy Story</td>\n",
       "      <td>7.9</td>\n",
       "      <td>10174</td>\n",
       "    </tr>\n",
       "    <tr>\n",
       "      <th>4</th>\n",
       "      <td>[28, 878, 12]</td>\n",
       "      <td>27205</td>\n",
       "      <td>en</td>\n",
       "      <td>Inception</td>\n",
       "      <td>27.920</td>\n",
       "      <td>2010-07-16</td>\n",
       "      <td>Inception</td>\n",
       "      <td>8.3</td>\n",
       "      <td>22186</td>\n",
       "    </tr>\n",
       "  </tbody>\n",
       "</table>\n",
       "</div>"
      ],
      "text/plain": [
       "             genre_ids     id original_language  \\\n",
       "0      [12, 14, 10751]  12444                en   \n",
       "1  [14, 12, 16, 10751]  10191                en   \n",
       "2        [12, 28, 878]  10138                en   \n",
       "3      [16, 35, 10751]    862                en   \n",
       "4        [28, 878, 12]  27205                en   \n",
       "\n",
       "                                 original_title  popularity release_date  \\\n",
       "0  Harry Potter and the Deathly Hallows: Part 1      33.533   2010-11-19   \n",
       "1                      How to Train Your Dragon      28.734   2010-03-26   \n",
       "2                                    Iron Man 2      28.515   2010-05-07   \n",
       "3                                     Toy Story      28.005   1995-11-22   \n",
       "4                                     Inception      27.920   2010-07-16   \n",
       "\n",
       "                                          title  vote_average  vote_count  \n",
       "0  Harry Potter and the Deathly Hallows: Part 1           7.7       10788  \n",
       "1                      How to Train Your Dragon           7.7        7610  \n",
       "2                                    Iron Man 2           6.8       12368  \n",
       "3                                     Toy Story           7.9       10174  \n",
       "4                                     Inception           8.3       22186  "
      ]
     },
     "execution_count": 20,
     "metadata": {},
     "output_type": "execute_result"
    }
   ],
   "source": [
    "tmdb_df.head()"
   ]
  },
  {
   "cell_type": "code",
   "execution_count": 21,
   "metadata": {},
   "outputs": [
    {
     "name": "stdout",
     "output_type": "stream",
     "text": [
      "<class 'pandas.core.frame.DataFrame'>\n",
      "RangeIndex: 5782 entries, 0 to 5781\n",
      "Data columns (total 6 columns):\n",
      " #   Column             Non-Null Count  Dtype \n",
      "---  ------             --------------  ----- \n",
      " 0   id                 5782 non-null   int64 \n",
      " 1   release_date       5782 non-null   object\n",
      " 2   movie              5782 non-null   object\n",
      " 3   production_budget  5782 non-null   object\n",
      " 4   domestic_gross     5782 non-null   object\n",
      " 5   worldwide_gross    5782 non-null   object\n",
      "dtypes: int64(1), object(5)\n",
      "memory usage: 271.2+ KB\n"
     ]
    }
   ],
   "source": [
    "budget.info()"
   ]
  },
  {
   "cell_type": "markdown",
   "metadata": {},
   "source": [
    "### 2. Data Preprocessing\n",
    "Convert columns with currency values and dates to appropriate formats."
   ]
  },
  {
   "cell_type": "code",
   "execution_count": 22,
   "metadata": {},
   "outputs": [
    {
     "name": "stdout",
     "output_type": "stream",
     "text": [
      "<class 'pandas.core.frame.DataFrame'>\n",
      "RangeIndex: 5782 entries, 0 to 5781\n",
      "Data columns (total 6 columns):\n",
      " #   Column             Non-Null Count  Dtype  \n",
      "---  ------             --------------  -----  \n",
      " 0   id                 5782 non-null   int64  \n",
      " 1   release_date       5782 non-null   object \n",
      " 2   movie              5782 non-null   object \n",
      " 3   production_budget  5782 non-null   float64\n",
      " 4   domestic_gross     5782 non-null   float64\n",
      " 5   worldwide_gross    5782 non-null   float64\n",
      "dtypes: float64(3), int64(1), object(2)\n",
      "memory usage: 271.2+ KB\n"
     ]
    }
   ],
   "source": [
    "# Remove dollar signs and commas from budget and revenue columns and convert them to numeric\n",
    "currency_columns = ['production_budget', 'domestic_gross', 'worldwide_gross']\n",
    "for col in currency_columns:\n",
    "    budget[col] = budget[col].replace('[\\$,]', '', regex=True).astype(float)\n",
    "budget.info()"
   ]
  },
  {
   "cell_type": "code",
   "execution_count": 23,
   "metadata": {},
   "outputs": [
    {
     "data": {
      "text/html": [
       "<div>\n",
       "<style scoped>\n",
       "    .dataframe tbody tr th:only-of-type {\n",
       "        vertical-align: middle;\n",
       "    }\n",
       "\n",
       "    .dataframe tbody tr th {\n",
       "        vertical-align: top;\n",
       "    }\n",
       "\n",
       "    .dataframe thead th {\n",
       "        text-align: right;\n",
       "    }\n",
       "</style>\n",
       "<table border=\"1\" class=\"dataframe\">\n",
       "  <thead>\n",
       "    <tr style=\"text-align: right;\">\n",
       "      <th></th>\n",
       "      <th>id</th>\n",
       "      <th>release_date</th>\n",
       "      <th>movie</th>\n",
       "      <th>production_budget</th>\n",
       "      <th>domestic_gross</th>\n",
       "      <th>worldwide_gross</th>\n",
       "      <th>release_month</th>\n",
       "      <th>release_year</th>\n",
       "    </tr>\n",
       "  </thead>\n",
       "  <tbody>\n",
       "    <tr>\n",
       "      <th>0</th>\n",
       "      <td>1</td>\n",
       "      <td>2009-12-18</td>\n",
       "      <td>Avatar</td>\n",
       "      <td>425000000.0</td>\n",
       "      <td>760507625.0</td>\n",
       "      <td>2.776345e+09</td>\n",
       "      <td>12</td>\n",
       "      <td>2009</td>\n",
       "    </tr>\n",
       "    <tr>\n",
       "      <th>1</th>\n",
       "      <td>2</td>\n",
       "      <td>2011-05-20</td>\n",
       "      <td>Pirates of the Caribbean: On Stranger Tides</td>\n",
       "      <td>410600000.0</td>\n",
       "      <td>241063875.0</td>\n",
       "      <td>1.045664e+09</td>\n",
       "      <td>5</td>\n",
       "      <td>2011</td>\n",
       "    </tr>\n",
       "    <tr>\n",
       "      <th>2</th>\n",
       "      <td>3</td>\n",
       "      <td>2019-06-07</td>\n",
       "      <td>Dark Phoenix</td>\n",
       "      <td>350000000.0</td>\n",
       "      <td>42762350.0</td>\n",
       "      <td>1.497624e+08</td>\n",
       "      <td>6</td>\n",
       "      <td>2019</td>\n",
       "    </tr>\n",
       "    <tr>\n",
       "      <th>3</th>\n",
       "      <td>4</td>\n",
       "      <td>2015-05-01</td>\n",
       "      <td>Avengers: Age of Ultron</td>\n",
       "      <td>330600000.0</td>\n",
       "      <td>459005868.0</td>\n",
       "      <td>1.403014e+09</td>\n",
       "      <td>5</td>\n",
       "      <td>2015</td>\n",
       "    </tr>\n",
       "    <tr>\n",
       "      <th>4</th>\n",
       "      <td>5</td>\n",
       "      <td>2017-12-15</td>\n",
       "      <td>Star Wars Ep. VIII: The Last Jedi</td>\n",
       "      <td>317000000.0</td>\n",
       "      <td>620181382.0</td>\n",
       "      <td>1.316722e+09</td>\n",
       "      <td>12</td>\n",
       "      <td>2017</td>\n",
       "    </tr>\n",
       "  </tbody>\n",
       "</table>\n",
       "</div>"
      ],
      "text/plain": [
       "   id release_date                                        movie  \\\n",
       "0   1   2009-12-18                                       Avatar   \n",
       "1   2   2011-05-20  Pirates of the Caribbean: On Stranger Tides   \n",
       "2   3   2019-06-07                                 Dark Phoenix   \n",
       "3   4   2015-05-01                      Avengers: Age of Ultron   \n",
       "4   5   2017-12-15            Star Wars Ep. VIII: The Last Jedi   \n",
       "\n",
       "   production_budget  domestic_gross  worldwide_gross  release_month  \\\n",
       "0        425000000.0     760507625.0     2.776345e+09             12   \n",
       "1        410600000.0     241063875.0     1.045664e+09              5   \n",
       "2        350000000.0      42762350.0     1.497624e+08              6   \n",
       "3        330600000.0     459005868.0     1.403014e+09              5   \n",
       "4        317000000.0     620181382.0     1.316722e+09             12   \n",
       "\n",
       "   release_year  \n",
       "0          2009  \n",
       "1          2011  \n",
       "2          2019  \n",
       "3          2015  \n",
       "4          2017  "
      ]
     },
     "execution_count": 23,
     "metadata": {},
     "output_type": "execute_result"
    }
   ],
   "source": [
    "# Convert release_date to datetime and extract month and year for analysis\n",
    "budget['release_date'] = pd.to_datetime(budget['release_date'], errors='coerce')\n",
    "budget['release_month'] = budget['release_date'].dt.month\n",
    "budget['release_year'] = budget['release_date'].dt.year\n",
    "budget.head()"
   ]
  },
  {
   "cell_type": "markdown",
   "metadata": {},
   "source": [
    "### 3.Aggregating Monthly Data\n",
    "Grouping by release_month to calculate the count of movies released and the average budget, domestic gross, and worldwide gross."
   ]
  },
  {
   "cell_type": "code",
   "execution_count": 24,
   "metadata": {},
   "outputs": [],
   "source": [
    "# Aggregate data by month to analyze release trends and financials\n",
    "monthly_data =budget.groupby('release_month').agg(\n",
    "    release_count=('id', 'size'),  # Count of movies released\n",
    "    avg_budget=('production_budget', 'mean'),  # Average production budget\n",
    "    avg_domestic_gross=('domestic_gross', 'mean'),  # Average domestic revenue\n",
    "    avg_worldwide_gross=('worldwide_gross', 'mean')  # Average worldwide revenue\n",
    ").reset_index()"
   ]
  },
  {
   "cell_type": "code",
   "execution_count": 25,
   "metadata": {},
   "outputs": [
    {
     "data": {
      "image/png": "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",
      "text/plain": [
       "<Figure size 720x432 with 1 Axes>"
      ]
     },
     "metadata": {
      "needs_background": "light"
     },
     "output_type": "display_data"
    }
   ],
   "source": [
    "# Plot the number of releases per month\n",
    "plt.figure(figsize=(10, 6))\n",
    "sns.barplot(data=monthly_data,x='release_month', y='release_count',palette= 'viridis')\n",
    "plt.title('Number of Movie Releases by Month')\n",
    "plt.xlabel('Month')\n",
    "plt.ylabel('Number of Releases')\n",
    "plt.xticks(ticks=range(12), labels=['Jan', 'Feb', 'Mar', 'Apr', 'May', 'Jun', 'Jul', 'Aug', 'Sep', 'Oct', 'Nov', 'Dec'], rotation=45)\n",
    "plt.show()\n"
   ]
  },
  {
   "cell_type": "markdown",
   "metadata": {},
   "source": [
    "## Analyzing Revenue by Month\n",
    "We can further plot the average box office revenue for movies released each month to see if there is a correlation between release timing and financial success."
   ]
  },
  {
   "cell_type": "code",
   "execution_count": 26,
   "metadata": {},
   "outputs": [
    {
     "data": {
      "image/png": "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",
      "text/plain": [
       "<Figure size 1008x432 with 3 Axes>"
      ]
     },
     "metadata": {
      "needs_background": "light"
     },
     "output_type": "display_data"
    }
   ],
   "source": [
    "fig, axs = plt.subplots(1, 3, figsize=(14, 6))\n",
    "\n",
    "# Average Budget by Month\n",
    "sns.barplot(data=monthly_data, x='release_month', y='avg_budget', palette='viridis', ax=axs[0])\n",
    "axs[0].set_title('Average Production Budget by Month')\n",
    "axs[0].set_xlabel('Month')\n",
    "axs[0].set_ylabel('Average Budget ($)')\n",
    "axs[0].set_xticks(range(0, 12))\n",
    "axs[0].set_xticklabels(['Jan', 'Feb', 'Mar', 'Apr', 'May', 'Jun', 'Jul', 'Aug', 'Sep', 'Oct', 'Nov', 'Dec'],rotation=45)\n",
    "\n",
    "# Average Domestic Gross by Month\n",
    "sns.barplot(data=monthly_data, x='release_month', y='avg_domestic_gross', palette='viridis', ax=axs[1])\n",
    "axs[1].set_title('Average Domestic Gross by Month')\n",
    "axs[1].set_xlabel('Month')\n",
    "axs[1].set_ylabel('Average Domestic Gross ($)')\n",
    "axs[1].set_xticks(range(0, 12))\n",
    "axs[1].set_xticklabels(['Jan', 'Feb', 'Mar', 'Apr', 'May', 'Jun', 'Jul', 'Aug', 'Sep', 'Oct', 'Nov', 'Dec'],rotation=45)\n",
    "\n",
    "# Average Worldwide Gross by Month\n",
    "sns.barplot(data=monthly_data, x='release_month', y='avg_worldwide_gross', palette='viridis', ax=axs[2])\n",
    "axs[2].set_title('Average Worldwide Gross by Month')\n",
    "axs[2].set_xlabel('Month')\n",
    "axs[2].set_ylabel('Average Worldwide Gross ($)')\n",
    "axs[2].set_xticks(ticks=range(0,12))\n",
    "axs[2].set_xticklabels(['Jan', 'Feb', 'Mar', 'Apr', 'May', 'Jun', 'Jul', 'Aug', 'Sep', 'Oct', 'Nov', 'Dec'],rotation=45)\n",
    "\n",
    "plt.tight_layout()\n",
    "plt.show()"
   ]
  },
  {
   "cell_type": "markdown",
   "metadata": {},
   "source": [
    "### **Observation**\n",
    "- Revenue Trends: \n",
    "December, July, and May exhibit higher average worldwide and domestic revenues, suggesting that films released in these months tend to perform well financially.\n",
    "This trend likely reflects the appeal of holiday and summer periods, when audiences have more leisure time to visit theaters.\n",
    "\n",
    "- Average Production Budget:\n",
    "December has high average production budgets, likely associated with blockbuster releases targeting the holiday season.\n",
    "May through July also see relatively high budgets, aligning with summer releases that often aim for large audiences.\n"
   ]
  },
  {
   "cell_type": "markdown",
   "metadata": {},
   "source": [
    "## Statistical Analysis \n",
    "### 1. Testing for Monthly Release Distribution Uniformity\n",
    "\n",
    "To determine if movies are uniformly released throughout the year, we can use a chi-square test. This test will help us see if the observed distribution of movie releases across months significantly deviates from a uniform distribution."
   ]
  },
  {
   "cell_type": "code",
   "execution_count": 27,
   "metadata": {},
   "outputs": [
    {
     "name": "stdout",
     "output_type": "stream",
     "text": [
      "Chi-square Statistic: 233.34555517122104, P-value: 8.493608319019405e-44\n",
      "The distribution of movie releases across months is significantly different from uniform.\n"
     ]
    }
   ],
   "source": [
    "#Calculating Chi-square statistic\n",
    "from scipy.stats import chisquare\n",
    "\n",
    "# Perform chi-square test on the frequency of releases per month\n",
    "observed_releases = monthly_data['release_count'].values\n",
    "expected_releases = [monthly_data['release_count'].mean()] * 12  # Expected value for uniform distribution\n",
    "\n",
    "chi_stat, p_value = chisquare(observed_releases, expected_releases)\n",
    "print(f\"Chi-square Statistic: {chi_stat}, P-value: {p_value}\")\n",
    "\n",
    "if p_value < 0.05:\n",
    "    print(\"The distribution of movie releases across months is significantly different from uniform.\")\n",
    "else:\n",
    "    print(\"The distribution of movie releases across months is not significantly different from uniform.\")"
   ]
  },
  {
   "cell_type": "code",
   "execution_count": 28,
   "metadata": {},
   "outputs": [
    {
     "data": {
      "image/png": "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",
      "text/plain": [
       "<Figure size 864x432 with 1 Axes>"
      ]
     },
     "metadata": {
      "needs_background": "light"
     },
     "output_type": "display_data"
    }
   ],
   "source": [
    "#Visual representation of the chi-square results\n",
    "months = monthly_data['release_count'].index\n",
    "bar_width = 0.35\n",
    "x = np.arange(len(months))\n",
    "\n",
    "# Create figure and axis\n",
    "plt.figure(figsize=(12, 6))\n",
    "\n",
    "# Plot observed releases as bars\n",
    "plt.bar(x - bar_width/2, observed_releases, width=bar_width, label='Observed Releases', color='skyblue')\n",
    "\n",
    "# Plot expected releases as bars\n",
    "plt.bar(x + bar_width/2, expected_releases, width=bar_width, label='Expected Releases', color='orange')\n",
    "\n",
    "# Add labels, title, and legend\n",
    "plt.xlabel(\"Month\")\n",
    "plt.ylabel(\"Number of Releases\")\n",
    "plt.title(\"Observed vs Expected Movie Releases per Month\")\n",
    "plt.xticks(x, months)  # Set x-axis labels to month names\n",
    "plt.legend()\n",
    "\n",
    "# Show the plot\n",
    "plt.tight_layout()\n",
    "plt.show()"
   ]
  },
  {
   "cell_type": "markdown",
   "metadata": {},
   "source": [
    "### **Observation**\n",
    "- The bar chart is comparing observed and expected monthly movie releases revealing noticeable deviations from a uniform distribution. Specifically, January shows significantly fewer releases than expected, while December has substantially more, suggesting seasonal trends. Smaller but consistent deviations are also visible in months like February, July, and August.\n",
    "- The chi-square test yields a chi-square statistic of 233.35 and a p-value of 8.49e-44, which is far below the 0.05 significance threshold. This result confirms that the observed distribution of movie releases across months is statistically significantly different from a uniform (even) distribution. "
   ]
  },
  {
   "cell_type": "markdown",
   "metadata": {},
   "source": [
    "## 2.Testing for Normality  \n",
    "To check if the earnings distribution follows a normal distribution, we will perform a shapiro-wilk test. \n",
    "\n",
    "This analysis will help the company identify the peak release times for films and provide insights on when to release movies based on historical trends. With this data, your company can make informed decisions about movie releases for their new studio."
   ]
  },
  {
   "cell_type": "code",
   "execution_count": 29,
   "metadata": {},
   "outputs": [
    {
     "name": "stdout",
     "output_type": "stream",
     "text": [
      "Shapiro-Wilk Test for overall earnings: Statistic=0.8733354210853577, p-value=0.07204803824424744\n",
      "The p-value is greater than 0.05, hence we fail to reject the null hypothesis since we do not have enough evidence.we can conclude that the earnings data does not significantly deviate from a normal distribution.\n"
     ]
    }
   ],
   "source": [
    "from scipy.stats import shapiro\n",
    "\n",
    "earnings_data = monthly_data['avg_domestic_gross']\n",
    "if len(earnings_data) >= 3:\n",
    "    stat, p_value = shapiro(earnings_data)\n",
    "    print(f'Shapiro-Wilk Test for overall earnings: Statistic={stat}, p-value={p_value}')\n",
    "else:\n",
    "    print('Not enough data to perform the Shapiro-Wilk test.')\n",
    "\n",
    "if p_value > 0.05 :\n",
    "    print (\"The p-value is greater than 0.05, hence we fail to reject the null hypothesis since we do not have enough evidence.\"\n",
    "            \"we can conclude that the earnings data does not significantly deviate from a normal distribution.\")\n",
    "else:\n",
    "    print(\"The p-value is less than 0.05 , hence we reject the null hypothesis at 0.05 level of significance and \"\n",
    "          \"conclude that the earnings significantly deviates from the normal distribution\")"
   ]
  },
  {
   "cell_type": "code",
   "execution_count": 30,
   "metadata": {},
   "outputs": [
    {
     "data": {
      "image/png": "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",
      "text/plain": [
       "<Figure size 720x432 with 1 Axes>"
      ]
     },
     "metadata": {
      "needs_background": "light"
     },
     "output_type": "display_data"
    }
   ],
   "source": [
    "plt.figure(figsize=(10, 6))\n",
    "sns.kdeplot(data=monthly_data, x='avg_domestic_gross', fill=True, color='skyblue', bw_adjust=0.5)\n",
    "plt.title(\"KDE Plot of Overall Earnings\")\n",
    "plt.xlabel(\"Earnings (avg_domestic_gross)\")\n",
    "plt.ylabel(\"Density\")\n",
    "plt.show()"
   ]
  },
  {
   "cell_type": "markdown",
   "metadata": {},
   "source": [
    "### **Observation**: \n",
    "The plot has two distinct peaks (modes), which indicates a bimodal distribution. This means that the earnings data may have two common ranges where movies tend to cluster in terms of earnings."
   ]
  },
  {
   "cell_type": "markdown",
   "metadata": {},
   "source": [
    "### Recommendation\n",
    "1.Focus on releasing big-budget movies in December and summer months (May to July) to leverage peak moviegoing times.\n",
    "\n",
    "2.Allocate larger budgets to films slated for release in these high-performance months, aiming for broad audience appeal and potential blockbuster status."
   ]
  }
 ],
 "metadata": {
  "kernelspec": {
   "display_name": "learn-env",
   "language": "python",
   "name": "python3"
  },
  "language_info": {
   "codemirror_mode": {
    "name": "ipython",
    "version": 3
   },
   "file_extension": ".py",
   "mimetype": "text/x-python",
   "name": "python",
   "nbconvert_exporter": "python",
   "pygments_lexer": "ipython3",
   "version": "3.8.5"
  }
 },
 "nbformat": 4,
 "nbformat_minor": 2
}
