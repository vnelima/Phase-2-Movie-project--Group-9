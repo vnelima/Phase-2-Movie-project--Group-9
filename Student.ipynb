{
 "cells": [
  {
   "cell_type": "markdown",
   "metadata": {},
   "source": [
    "# **Group 9: Box Office Movies Analysis**"
   ]
  },
  {
   "cell_type": "markdown",
   "metadata": {},
   "source": [
    "![text](Image/premium_photo-1683740129124-0b4aac921cc1.avif)"
   ]
  },
  {
   "cell_type": "markdown",
   "metadata": {},
   "source": [
    "# **Project Overview**\n",
    "This project uses exploratory data analysis to uncover factors driving movie profitability and box office success, providing data-driven insights for a new movie studio's strategy. By examining historical data on production budgets, release timing, genres ,and revenues, we aim to inform decisions on film types, optimal budget allocations, and release schedules, guiding the studio in creating high-performing content."
   ]
  },
  {
   "cell_type": "markdown",
   "metadata": {},
   "source": [
    "# **Business Problem**\n",
    "As major companies invest in original video content, our company has decided to establish a new movie studio to enter the competitive film industry. However, with limited experience in movie production, the company lacks insights into what drives box office success. Our goal is to explore which types of films perform best at the box office, using factors like release timing, production budgets, and profit margins to inform strategic decisions. The insights generated from this an\n",
    "analysis will support the new movie studio's head in deciding what type of films to create and how to allocate resources effectively for maximum profitability."
   ]
  },
  {
   "cell_type": "markdown",
   "metadata": {},
   "source": [
    "### Importing Libraries"
   ]
  },
  {
   "cell_type": "code",
   "execution_count": 78,
   "metadata": {},
   "outputs": [],
   "source": [
    "# import libraries \n",
    "import pandas as pd\n",
    "import matplotlib.pyplot as plt\n",
    "import numpy as np\n",
    "import seaborn as sns\n",
    "import scipy.stats as stats\n",
    "from scipy.stats import pearsonr\n",
    "import statsmodels.api as sm\n",
    "import warnings \n",
    "warnings.filterwarnings(\"ignore\", category=FutureWarning)"
   ]
  },
  {
   "cell_type": "markdown",
   "metadata": {},
   "source": [
    "## **Objectives** \n",
    "1. To identify audience preferences across genres.\n",
    "2. To explore seasonal trends in movie releases.\n",
    "3. To determine the profitability of movies based on revenue and profit margins.\n",
    "4. To determine the change of movie revenue over time."
   ]
  },
  {
   "cell_type": "markdown",
   "metadata": {},
   "source": [
    "## Objective 1 : Audiences Preferrences\n",
    "## Question : Which genre  had highest ratings?\n",
    "### Analysis of the popular movie genres in Box Office\n",
    "To analyze the popularity of movie genres in the box office, we need to examine trends over time, considering factors like genre performance, audience preferences, and overall box office revenue.\n",
    "\n",
    "## Dataset \n",
    "For this analysis we will look at the  movie ratings dataset for of our analysis.\n"
   ]
  },
  {
   "cell_type": "code",
   "execution_count": 79,
   "metadata": {},
   "outputs": [],
   "source": [
    "rating_df = pd.read_csv(\"./DataSets/rt.movie_info.tsv\",sep ='\\t')"
   ]
  },
  {
   "cell_type": "markdown",
   "metadata": {},
   "source": [
    "#### Data Cleaning"
   ]
  },
  {
   "cell_type": "code",
   "execution_count": 80,
   "metadata": {},
   "outputs": [
    {
     "data": {
      "text/html": [
       "<div>\n",
       "<style scoped>\n",
       "    .dataframe tbody tr th:only-of-type {\n",
       "        vertical-align: middle;\n",
       "    }\n",
       "\n",
       "    .dataframe tbody tr th {\n",
       "        vertical-align: top;\n",
       "    }\n",
       "\n",
       "    .dataframe thead th {\n",
       "        text-align: right;\n",
       "    }\n",
       "</style>\n",
       "<table border=\"1\" class=\"dataframe\">\n",
       "  <thead>\n",
       "    <tr style=\"text-align: right;\">\n",
       "      <th></th>\n",
       "      <th>id</th>\n",
       "      <th>synopsis</th>\n",
       "      <th>rating</th>\n",
       "      <th>genre</th>\n",
       "      <th>director</th>\n",
       "      <th>writer</th>\n",
       "      <th>theater_date</th>\n",
       "      <th>dvd_date</th>\n",
       "      <th>currency</th>\n",
       "      <th>box_office</th>\n",
       "      <th>runtime</th>\n",
       "      <th>studio</th>\n",
       "    </tr>\n",
       "  </thead>\n",
       "  <tbody>\n",
       "    <tr>\n",
       "      <th>0</th>\n",
       "      <td>1</td>\n",
       "      <td>This gritty, fast-paced, and innovative police...</td>\n",
       "      <td>R</td>\n",
       "      <td>Action and Adventure|Classics|Drama</td>\n",
       "      <td>William Friedkin</td>\n",
       "      <td>Ernest Tidyman</td>\n",
       "      <td>Oct 9, 1971</td>\n",
       "      <td>Sep 25, 2001</td>\n",
       "      <td>NaN</td>\n",
       "      <td>NaN</td>\n",
       "      <td>104 minutes</td>\n",
       "      <td>NaN</td>\n",
       "    </tr>\n",
       "    <tr>\n",
       "      <th>1</th>\n",
       "      <td>3</td>\n",
       "      <td>New York City, not-too-distant-future: Eric Pa...</td>\n",
       "      <td>R</td>\n",
       "      <td>Drama|Science Fiction and Fantasy</td>\n",
       "      <td>David Cronenberg</td>\n",
       "      <td>David Cronenberg|Don DeLillo</td>\n",
       "      <td>Aug 17, 2012</td>\n",
       "      <td>Jan 1, 2013</td>\n",
       "      <td>$</td>\n",
       "      <td>600,000</td>\n",
       "      <td>108 minutes</td>\n",
       "      <td>Entertainment One</td>\n",
       "    </tr>\n",
       "    <tr>\n",
       "      <th>2</th>\n",
       "      <td>5</td>\n",
       "      <td>Illeana Douglas delivers a superb performance ...</td>\n",
       "      <td>R</td>\n",
       "      <td>Drama|Musical and Performing Arts</td>\n",
       "      <td>Allison Anders</td>\n",
       "      <td>Allison Anders</td>\n",
       "      <td>Sep 13, 1996</td>\n",
       "      <td>Apr 18, 2000</td>\n",
       "      <td>NaN</td>\n",
       "      <td>NaN</td>\n",
       "      <td>116 minutes</td>\n",
       "      <td>NaN</td>\n",
       "    </tr>\n",
       "    <tr>\n",
       "      <th>3</th>\n",
       "      <td>6</td>\n",
       "      <td>Michael Douglas runs afoul of a treacherous su...</td>\n",
       "      <td>R</td>\n",
       "      <td>Drama|Mystery and Suspense</td>\n",
       "      <td>Barry Levinson</td>\n",
       "      <td>Paul Attanasio|Michael Crichton</td>\n",
       "      <td>Dec 9, 1994</td>\n",
       "      <td>Aug 27, 1997</td>\n",
       "      <td>NaN</td>\n",
       "      <td>NaN</td>\n",
       "      <td>128 minutes</td>\n",
       "      <td>NaN</td>\n",
       "    </tr>\n",
       "    <tr>\n",
       "      <th>4</th>\n",
       "      <td>7</td>\n",
       "      <td>NaN</td>\n",
       "      <td>NR</td>\n",
       "      <td>Drama|Romance</td>\n",
       "      <td>Rodney Bennett</td>\n",
       "      <td>Giles Cooper</td>\n",
       "      <td>NaN</td>\n",
       "      <td>NaN</td>\n",
       "      <td>NaN</td>\n",
       "      <td>NaN</td>\n",
       "      <td>200 minutes</td>\n",
       "      <td>NaN</td>\n",
       "    </tr>\n",
       "  </tbody>\n",
       "</table>\n",
       "</div>"
      ],
      "text/plain": [
       "   id                                           synopsis rating  \\\n",
       "0   1  This gritty, fast-paced, and innovative police...      R   \n",
       "1   3  New York City, not-too-distant-future: Eric Pa...      R   \n",
       "2   5  Illeana Douglas delivers a superb performance ...      R   \n",
       "3   6  Michael Douglas runs afoul of a treacherous su...      R   \n",
       "4   7                                                NaN     NR   \n",
       "\n",
       "                                 genre          director  \\\n",
       "0  Action and Adventure|Classics|Drama  William Friedkin   \n",
       "1    Drama|Science Fiction and Fantasy  David Cronenberg   \n",
       "2    Drama|Musical and Performing Arts    Allison Anders   \n",
       "3           Drama|Mystery and Suspense    Barry Levinson   \n",
       "4                        Drama|Romance    Rodney Bennett   \n",
       "\n",
       "                            writer  theater_date      dvd_date currency  \\\n",
       "0                   Ernest Tidyman   Oct 9, 1971  Sep 25, 2001      NaN   \n",
       "1     David Cronenberg|Don DeLillo  Aug 17, 2012   Jan 1, 2013        $   \n",
       "2                   Allison Anders  Sep 13, 1996  Apr 18, 2000      NaN   \n",
       "3  Paul Attanasio|Michael Crichton   Dec 9, 1994  Aug 27, 1997      NaN   \n",
       "4                     Giles Cooper           NaN           NaN      NaN   \n",
       "\n",
       "  box_office      runtime             studio  \n",
       "0        NaN  104 minutes                NaN  \n",
       "1    600,000  108 minutes  Entertainment One  \n",
       "2        NaN  116 minutes                NaN  \n",
       "3        NaN  128 minutes                NaN  \n",
       "4        NaN  200 minutes                NaN  "
      ]
     },
     "execution_count": 80,
     "metadata": {},
     "output_type": "execute_result"
    }
   ],
   "source": [
    "rating_df.head()"
   ]
  },
  {
   "cell_type": "code",
   "execution_count": 81,
   "metadata": {},
   "outputs": [
    {
     "data": {
      "text/plain": [
       "0"
      ]
     },
     "execution_count": 81,
     "metadata": {},
     "output_type": "execute_result"
    }
   ],
   "source": [
    "#Checking for duplicates;There are no duplicates in my dataset\n",
    "duplicated =rating_df.duplicated().sum()\n",
    "duplicated"
   ]
  },
  {
   "cell_type": "code",
   "execution_count": 82,
   "metadata": {},
   "outputs": [
    {
     "data": {
      "text/plain": [
       "id                 0\n",
       "synopsis          62\n",
       "rating             3\n",
       "genre              8\n",
       "director         199\n",
       "writer           449\n",
       "theater_date     359\n",
       "dvd_date         359\n",
       "currency        1220\n",
       "box_office      1220\n",
       "runtime           30\n",
       "studio          1066\n",
       "dtype: int64"
      ]
     },
     "execution_count": 82,
     "metadata": {},
     "output_type": "execute_result"
    }
   ],
   "source": [
    "#Check for missing values\n",
    "missing =rating_df.isnull().sum()\n",
    "missing "
   ]
  },
  {
   "cell_type": "code",
   "execution_count": 83,
   "metadata": {},
   "outputs": [],
   "source": [
    "#Fill the NA values in synopsis with No synopsis available\n",
    "rating_df['synopsis'].fillna(\"No synopsis available\", inplace=True)\n",
    "#   In rating null =mode\n",
    "mode_rating = rating_df['rating'].mode()[0]\n",
    "rating_df['rating'].fillna(mode_rating, inplace=True)\n",
    "#Replace missing genre with unknown \n",
    "rating_df['genre'].fillna(\"Unknown\", inplace=True)\n",
    "#Replace writing with unknown\n",
    "rating_df['writer'].fillna(\"Unknown\", inplace=True)\n",
    "#Drop rows with missing theatre date \n",
    "rating_df.dropna(subset=['theater_date'], inplace=True)\n",
    "#Fill na directors as Unknown\n",
    "rating_df['director'].fillna(\"Unknown\", inplace=True)\n",
    "\n"
   ]
  },
  {
   "cell_type": "code",
   "execution_count": 84,
   "metadata": {},
   "outputs": [
    {
     "data": {
      "text/plain": [
       "id                0\n",
       "synopsis          0\n",
       "rating            0\n",
       "genre             0\n",
       "director          0\n",
       "writer            0\n",
       "theater_date      0\n",
       "dvd_date          0\n",
       "runtime           0\n",
       "studio          734\n",
       "dtype: int64"
      ]
     },
     "execution_count": 84,
     "metadata": {},
     "output_type": "execute_result"
    }
   ],
   "source": [
    "#Dropping bot currency and box office columns \n",
    "rating_df.drop(columns=['currency', 'box_office'], inplace=True)\n",
    "#Dropping the nulls in runtime colmnn\n",
    "rating_df.dropna(subset=['runtime'], inplace=True)\n",
    "#Checking if we have any null values \n",
    "rating_df.isnull().sum()"
   ]
  },
  {
   "cell_type": "markdown",
   "metadata": {},
   "source": [
    "#### Data types"
   ]
  },
  {
   "cell_type": "code",
   "execution_count": 85,
   "metadata": {},
   "outputs": [
    {
     "data": {
      "text/plain": [
       "id               int64\n",
       "synopsis        object\n",
       "rating          object\n",
       "genre           object\n",
       "director        object\n",
       "writer          object\n",
       "theater_date    object\n",
       "dvd_date        object\n",
       "runtime         object\n",
       "studio          object\n",
       "dtype: object"
      ]
     },
     "execution_count": 85,
     "metadata": {},
     "output_type": "execute_result"
    }
   ],
   "source": [
    "rating_df.dtypes"
   ]
  },
  {
   "cell_type": "code",
   "execution_count": 86,
   "metadata": {},
   "outputs": [],
   "source": [
    "#Converting Data type\n",
    "#ID to Integer \n",
    "rating_df['id'] = rating_df['id'].astype(int)\n",
    "#Date to datetime\n",
    "rating_df['theater_date'] = pd.to_datetime(rating_df['theater_date'], errors='coerce')\n",
    "rating_df['dvd_date'] = pd.to_datetime(rating_df['dvd_date'], errors='coerce')\n",
    "#Remove text in runtime and converting the data to int \n",
    "rating_df['runtime'] = rating_df['runtime'].str.replace(' minutes', '').astype(int)"
   ]
  },
  {
   "cell_type": "code",
   "execution_count": 87,
   "metadata": {},
   "outputs": [
    {
     "data": {
      "text/html": [
       "<div>\n",
       "<style scoped>\n",
       "    .dataframe tbody tr th:only-of-type {\n",
       "        vertical-align: middle;\n",
       "    }\n",
       "\n",
       "    .dataframe tbody tr th {\n",
       "        vertical-align: top;\n",
       "    }\n",
       "\n",
       "    .dataframe thead th {\n",
       "        text-align: right;\n",
       "    }\n",
       "</style>\n",
       "<table border=\"1\" class=\"dataframe\">\n",
       "  <thead>\n",
       "    <tr style=\"text-align: right;\">\n",
       "      <th></th>\n",
       "      <th>id</th>\n",
       "      <th>synopsis</th>\n",
       "      <th>rating</th>\n",
       "      <th>genre</th>\n",
       "      <th>director</th>\n",
       "      <th>writer</th>\n",
       "      <th>theater_date</th>\n",
       "      <th>dvd_date</th>\n",
       "      <th>runtime</th>\n",
       "      <th>studio</th>\n",
       "    </tr>\n",
       "  </thead>\n",
       "  <tbody>\n",
       "    <tr>\n",
       "      <th>0</th>\n",
       "      <td>1</td>\n",
       "      <td>This gritty, fast-paced, and innovative police...</td>\n",
       "      <td>R</td>\n",
       "      <td>Action and Adventure|Classics|Drama</td>\n",
       "      <td>William Friedkin</td>\n",
       "      <td>Ernest Tidyman</td>\n",
       "      <td>1971-10-09</td>\n",
       "      <td>2001-09-25</td>\n",
       "      <td>104</td>\n",
       "      <td>NaN</td>\n",
       "    </tr>\n",
       "    <tr>\n",
       "      <th>1</th>\n",
       "      <td>3</td>\n",
       "      <td>New York City, not-too-distant-future: Eric Pa...</td>\n",
       "      <td>R</td>\n",
       "      <td>Drama|Science Fiction and Fantasy</td>\n",
       "      <td>David Cronenberg</td>\n",
       "      <td>David Cronenberg|Don DeLillo</td>\n",
       "      <td>2012-08-17</td>\n",
       "      <td>2013-01-01</td>\n",
       "      <td>108</td>\n",
       "      <td>Entertainment One</td>\n",
       "    </tr>\n",
       "    <tr>\n",
       "      <th>2</th>\n",
       "      <td>5</td>\n",
       "      <td>Illeana Douglas delivers a superb performance ...</td>\n",
       "      <td>R</td>\n",
       "      <td>Drama|Musical and Performing Arts</td>\n",
       "      <td>Allison Anders</td>\n",
       "      <td>Allison Anders</td>\n",
       "      <td>1996-09-13</td>\n",
       "      <td>2000-04-18</td>\n",
       "      <td>116</td>\n",
       "      <td>NaN</td>\n",
       "    </tr>\n",
       "    <tr>\n",
       "      <th>3</th>\n",
       "      <td>6</td>\n",
       "      <td>Michael Douglas runs afoul of a treacherous su...</td>\n",
       "      <td>R</td>\n",
       "      <td>Drama|Mystery and Suspense</td>\n",
       "      <td>Barry Levinson</td>\n",
       "      <td>Paul Attanasio|Michael Crichton</td>\n",
       "      <td>1994-12-09</td>\n",
       "      <td>1997-08-27</td>\n",
       "      <td>128</td>\n",
       "      <td>NaN</td>\n",
       "    </tr>\n",
       "    <tr>\n",
       "      <th>5</th>\n",
       "      <td>8</td>\n",
       "      <td>The year is 1942. As the Allies unite overseas...</td>\n",
       "      <td>PG</td>\n",
       "      <td>Drama|Kids and Family</td>\n",
       "      <td>Jay Russell</td>\n",
       "      <td>Gail Gilchriest</td>\n",
       "      <td>2000-03-03</td>\n",
       "      <td>2000-07-11</td>\n",
       "      <td>95</td>\n",
       "      <td>Warner Bros. Pictures</td>\n",
       "    </tr>\n",
       "  </tbody>\n",
       "</table>\n",
       "</div>"
      ],
      "text/plain": [
       "   id                                           synopsis rating  \\\n",
       "0   1  This gritty, fast-paced, and innovative police...      R   \n",
       "1   3  New York City, not-too-distant-future: Eric Pa...      R   \n",
       "2   5  Illeana Douglas delivers a superb performance ...      R   \n",
       "3   6  Michael Douglas runs afoul of a treacherous su...      R   \n",
       "5   8  The year is 1942. As the Allies unite overseas...     PG   \n",
       "\n",
       "                                 genre          director  \\\n",
       "0  Action and Adventure|Classics|Drama  William Friedkin   \n",
       "1    Drama|Science Fiction and Fantasy  David Cronenberg   \n",
       "2    Drama|Musical and Performing Arts    Allison Anders   \n",
       "3           Drama|Mystery and Suspense    Barry Levinson   \n",
       "5                Drama|Kids and Family       Jay Russell   \n",
       "\n",
       "                            writer theater_date   dvd_date  runtime  \\\n",
       "0                   Ernest Tidyman   1971-10-09 2001-09-25      104   \n",
       "1     David Cronenberg|Don DeLillo   2012-08-17 2013-01-01      108   \n",
       "2                   Allison Anders   1996-09-13 2000-04-18      116   \n",
       "3  Paul Attanasio|Michael Crichton   1994-12-09 1997-08-27      128   \n",
       "5                  Gail Gilchriest   2000-03-03 2000-07-11       95   \n",
       "\n",
       "                  studio  \n",
       "0                    NaN  \n",
       "1      Entertainment One  \n",
       "2                    NaN  \n",
       "3                    NaN  \n",
       "5  Warner Bros. Pictures  "
      ]
     },
     "execution_count": 87,
     "metadata": {},
     "output_type": "execute_result"
    }
   ],
   "source": [
    "rating_df.head()"
   ]
  },
  {
   "cell_type": "code",
   "execution_count": 88,
   "metadata": {},
   "outputs": [
    {
     "data": {
      "text/plain": [
       "array(['R', 'PG', 'PG-13', 'NR', 'G', 'NC17'], dtype=object)"
      ]
     },
     "execution_count": 88,
     "metadata": {},
     "output_type": "execute_result"
    }
   ],
   "source": [
    "#Assighn the rating to numerical values\n",
    "rating_df[\"rating\"].unique()"
   ]
  },
  {
   "cell_type": "code",
   "execution_count": 89,
   "metadata": {},
   "outputs": [],
   "source": [
    "#Mapping \n",
    "rating_mapping = {'R': 1, 'PG': 2, 'PG-13': 3, 'NR': 4, 'G': 5, 'NC17': 6}\n",
    "rating_df['numeric_rating'] = rating_df['rating'].map(rating_mapping)"
   ]
  },
  {
   "cell_type": "markdown",
   "metadata": {},
   "source": [
    "### Data Visualization "
   ]
  },
  {
   "cell_type": "markdown",
   "metadata": {},
   "source": [
    "#### Top 10 most popular Movies Genre"
   ]
  },
  {
   "cell_type": "code",
   "execution_count": 90,
   "metadata": {},
   "outputs": [
    {
     "data": {
      "image/png": "[encoded data removed]",
      "text/plain": [
       "<Figure size 864x432 with 1 Axes>"
      ]
     },
     "metadata": {
      "needs_background": "light"
     },
     "output_type": "display_data"
    }
   ],
   "source": [
    "#An Histogram presentation of Genre and the number of movie counts\n",
    "rating_df['genre'] = rating_df['genre'].fillna('').apply(lambda x: x.split('|'))\n",
    "genre_counts = rating_df.explode('genre')['genre'].value_counts().head(10)\n",
    "plt.figure(figsize=(12, 6))\n",
    "sns.barplot(x=genre_counts.values, y=genre_counts.index)\n",
    "plt.title('Top 10 Movie Genres')\n",
    "plt.xlabel('Number of Movies')\n",
    "plt.ylabel('Genre')\n",
    "plt.show()"
   ]
  },
  {
   "cell_type": "markdown",
   "metadata": {},
   "source": [
    "#### Interpretation\n",
    "\n",
    "-The bar plot shows that the Drama Gernre has a a lot of movies produced followed by the comedy genre\n"
   ]
  },
  {
   "cell_type": "markdown",
   "metadata": {},
   "source": [
    "#### A ratings vs top 10 studio plot\n",
    "\n",
    "This is a plot to show the studio and how the ratings are spread across the top 10 studios"
   ]
  },
  {
   "cell_type": "code",
   "execution_count": 91,
   "metadata": {},
   "outputs": [
    {
     "data": {
      "image/png": "[encoded data removed]",
      "text/plain": [
       "<Figure size 864x432 with 1 Axes>"
      ]
     },
     "metadata": {
      "needs_background": "light"
     },
     "output_type": "display_data"
    }
   ],
   "source": [
    "studio_rating_counts = rating_df.groupby(['studio', 'numeric_rating'])\n",
    "\n",
    "# Plotting the data\n",
    "top_studios = rating_df['studio'].value_counts().nlargest(10).index\n",
    "top_studio_data = rating_df[rating_df['studio'].isin(top_studios)]\n",
    "plt.figure(figsize=(12, 6))\n",
    "sns.countplot(data=top_studio_data, x='studio', hue='rating')\n",
    "plt.title(\"Rating Distribution Across Top 10 Studios\")\n",
    "plt.xlabel(\"Studio\")\n",
    "plt.ylabel(\"Count of Ratings\")\n",
    "plt.xticks(rotation=45)\n",
    "plt.legend(title='Rating')\n",
    "plt.show()"
   ]
  },
  {
   "cell_type": "markdown",
   "metadata": {},
   "source": [
    "##### Observation "
   ]
  },
  {
   "cell_type": "markdown",
   "metadata": {},
   "source": [
    "The independent Studios have the highest number of movies produced"
   ]
  },
  {
   "cell_type": "markdown",
   "metadata": {},
   "source": [
    "#### Checking for normality\n",
    "\n",
    "We want to check if our ratings follow a normal distribution.We will use the Shapiro-wilk Test\n"
   ]
  },
  {
   "cell_type": "code",
   "execution_count": 92,
   "metadata": {},
   "outputs": [
    {
     "name": "stdout",
     "output_type": "stream",
     "text": [
      "The p-value is less than 0.05 , hence we reject the null hypothesis at 0.05 level of significance and conclude that the ratings significantly deviates from the normal distribution\n"
     ]
    }
   ],
   "source": [
    "# Shapiro-Wilk Test\n",
    "from scipy.stats import shapiro\n",
    "ratings = (rating_df['numeric_rating'])\n",
    "stat, p_value = shapiro(ratings)\n",
    "alpha =0.05 \n",
    "if p_value > alpha :\n",
    "    print (\"The p-value is greater than 0.05, hence we fail to reject the null hypothesis since we do not have enough evidence.\"\n",
    "            \"we can conclude that the ratings does not significantly deviate from a normal distribution.\")\n",
    "else:\n",
    "    print(\"The p-value is less than 0.05 , hence we reject the null hypothesis at 0.05 level of significance and \"\n",
    "          \"conclude that the ratings significantly deviates from the normal distribution\")"
   ]
  },
  {
   "cell_type": "markdown",
   "metadata": {},
   "source": [
    "Our Rating data does not have a normal distribution "
   ]
  },
  {
   "cell_type": "markdown",
   "metadata": {},
   "source": [
    "## Objective 2 : Movie Realease Month Variation\n",
    "\n",
    "### Question 2.1 : How movie release dates vary by month and determine peak release times e.g school holidays, Christmas, Valentines"
   ]
  },
  {
   "cell_type": "code",
   "execution_count": 93,
   "metadata": {},
   "outputs": [
    {
     "data": {
      "text/html": [
       "<div>\n",
       "<style scoped>\n",
       "    .dataframe tbody tr th:only-of-type {\n",
       "        vertical-align: middle;\n",
       "    }\n",
       "\n",
       "    .dataframe tbody tr th {\n",
       "        vertical-align: top;\n",
       "    }\n",
       "\n",
       "    .dataframe thead th {\n",
       "        text-align: right;\n",
       "    }\n",
       "</style>\n",
       "<table border=\"1\" class=\"dataframe\">\n",
       "  <thead>\n",
       "    <tr style=\"text-align: right;\">\n",
       "      <th></th>\n",
       "      <th>id</th>\n",
       "      <th>release_date</th>\n",
       "      <th>movie</th>\n",
       "      <th>production_budget</th>\n",
       "      <th>domestic_gross</th>\n",
       "      <th>worldwide_gross</th>\n",
       "    </tr>\n",
       "  </thead>\n",
       "  <tbody>\n",
       "    <tr>\n",
       "      <th>0</th>\n",
       "      <td>1</td>\n",
       "      <td>Dec 18, 2009</td>\n",
       "      <td>Avatar</td>\n",
       "      <td>$425,000,000</td>\n",
       "      <td>$760,507,625</td>\n",
       "      <td>$2,776,345,279</td>\n",
       "    </tr>\n",
       "    <tr>\n",
       "      <th>1</th>\n",
       "      <td>2</td>\n",
       "      <td>May 20, 2011</td>\n",
       "      <td>Pirates of the Caribbean: On Stranger Tides</td>\n",
       "      <td>$410,600,000</td>\n",
       "      <td>$241,063,875</td>\n",
       "      <td>$1,045,663,875</td>\n",
       "    </tr>\n",
       "    <tr>\n",
       "      <th>2</th>\n",
       "      <td>3</td>\n",
       "      <td>Jun 7, 2019</td>\n",
       "      <td>Dark Phoenix</td>\n",
       "      <td>$350,000,000</td>\n",
       "      <td>$42,762,350</td>\n",
       "      <td>$149,762,350</td>\n",
       "    </tr>\n",
       "    <tr>\n",
       "      <th>3</th>\n",
       "      <td>4</td>\n",
       "      <td>May 1, 2015</td>\n",
       "      <td>Avengers: Age of Ultron</td>\n",
       "      <td>$330,600,000</td>\n",
       "      <td>$459,005,868</td>\n",
       "      <td>$1,403,013,963</td>\n",
       "    </tr>\n",
       "    <tr>\n",
       "      <th>4</th>\n",
       "      <td>5</td>\n",
       "      <td>Dec 15, 2017</td>\n",
       "      <td>Star Wars Ep. VIII: The Last Jedi</td>\n",
       "      <td>$317,000,000</td>\n",
       "      <td>$620,181,382</td>\n",
       "      <td>$1,316,721,747</td>\n",
       "    </tr>\n",
       "  </tbody>\n",
       "</table>\n",
       "</div>"
      ],
      "text/plain": [
       "   id  release_date                                        movie  \\\n",
       "0   1  Dec 18, 2009                                       Avatar   \n",
       "1   2  May 20, 2011  Pirates of the Caribbean: On Stranger Tides   \n",
       "2   3   Jun 7, 2019                                 Dark Phoenix   \n",
       "3   4   May 1, 2015                      Avengers: Age of Ultron   \n",
       "4   5  Dec 15, 2017            Star Wars Ep. VIII: The Last Jedi   \n",
       "\n",
       "  production_budget domestic_gross worldwide_gross  \n",
       "0      $425,000,000   $760,507,625  $2,776,345,279  \n",
       "1      $410,600,000   $241,063,875  $1,045,663,875  \n",
       "2      $350,000,000    $42,762,350    $149,762,350  \n",
       "3      $330,600,000   $459,005,868  $1,403,013,963  \n",
       "4      $317,000,000   $620,181,382  $1,316,721,747  "
      ]
     },
     "execution_count": 93,
     "metadata": {},
     "output_type": "execute_result"
    }
   ],
   "source": [
    "# Load the budget dataset \n",
    "budget = pd.read_csv(\"DataSets/tn.movie_budgets.csv\")\n",
    "budget.head()"
   ]
  },
  {
   "cell_type": "code",
   "execution_count": 94,
   "metadata": {},
   "outputs": [
    {
     "name": "stdout",
     "output_type": "stream",
     "text": [
      "<class 'pandas.core.frame.DataFrame'>\n",
      "RangeIndex: 5782 entries, 0 to 5781\n",
      "Data columns (total 6 columns):\n",
      " #   Column             Non-Null Count  Dtype  \n",
      "---  ------             --------------  -----  \n",
      " 0   id                 5782 non-null   int64  \n",
      " 1   release_date       5782 non-null   object \n",
      " 2   movie              5782 non-null   object \n",
      " 3   production_budget  5782 non-null   float64\n",
      " 4   domestic_gross     5782 non-null   float64\n",
      " 5   worldwide_gross    5782 non-null   float64\n",
      "dtypes: float64(3), int64(1), object(2)\n",
      "memory usage: 271.2+ KB\n"
     ]
    }
   ],
   "source": [
    "# Remove dollar signs and commas from budget and revenue columns and convert them to numeric\n",
    "currency_columns = ['production_budget', 'domestic_gross', 'worldwide_gross']\n",
    "for col in currency_columns:\n",
    "    budget[col] = budget[col].replace('[\\$,]', '', regex=True).astype(float)\n",
    "budget.info()"
   ]
  },
  {
   "cell_type": "code",
   "execution_count": 95,
   "metadata": {},
   "outputs": [
    {
     "data": {
      "text/html": [
       "<div>\n",
       "<style scoped>\n",
       "    .dataframe tbody tr th:only-of-type {\n",
       "        vertical-align: middle;\n",
       "    }\n",
       "\n",
       "    .dataframe tbody tr th {\n",
       "        vertical-align: top;\n",
       "    }\n",
       "\n",
       "    .dataframe thead th {\n",
       "        text-align: right;\n",
       "    }\n",
       "</style>\n",
       "<table border=\"1\" class=\"dataframe\">\n",
       "  <thead>\n",
       "    <tr style=\"text-align: right;\">\n",
       "      <th></th>\n",
       "      <th>id</th>\n",
       "      <th>release_date</th>\n",
       "      <th>movie</th>\n",
       "      <th>production_budget</th>\n",
       "      <th>domestic_gross</th>\n",
       "      <th>worldwide_gross</th>\n",
       "      <th>release_month</th>\n",
       "      <th>release_year</th>\n",
       "    </tr>\n",
       "  </thead>\n",
       "  <tbody>\n",
       "    <tr>\n",
       "      <th>0</th>\n",
       "      <td>1</td>\n",
       "      <td>2009-12-18</td>\n",
       "      <td>Avatar</td>\n",
       "      <td>425000000.0</td>\n",
       "      <td>760507625.0</td>\n",
       "      <td>2.776345e+09</td>\n",
       "      <td>12</td>\n",
       "      <td>2009</td>\n",
       "    </tr>\n",
       "    <tr>\n",
       "      <th>1</th>\n",
       "      <td>2</td>\n",
       "      <td>2011-05-20</td>\n",
       "      <td>Pirates of the Caribbean: On Stranger Tides</td>\n",
       "      <td>410600000.0</td>\n",
       "      <td>241063875.0</td>\n",
       "      <td>1.045664e+09</td>\n",
       "      <td>5</td>\n",
       "      <td>2011</td>\n",
       "    </tr>\n",
       "    <tr>\n",
       "      <th>2</th>\n",
       "      <td>3</td>\n",
       "      <td>2019-06-07</td>\n",
       "      <td>Dark Phoenix</td>\n",
       "      <td>350000000.0</td>\n",
       "      <td>42762350.0</td>\n",
       "      <td>1.497624e+08</td>\n",
       "      <td>6</td>\n",
       "      <td>2019</td>\n",
       "    </tr>\n",
       "    <tr>\n",
       "      <th>3</th>\n",
       "      <td>4</td>\n",
       "      <td>2015-05-01</td>\n",
       "      <td>Avengers: Age of Ultron</td>\n",
       "      <td>330600000.0</td>\n",
       "      <td>459005868.0</td>\n",
       "      <td>1.403014e+09</td>\n",
       "      <td>5</td>\n",
       "      <td>2015</td>\n",
       "    </tr>\n",
       "    <tr>\n",
       "      <th>4</th>\n",
       "      <td>5</td>\n",
       "      <td>2017-12-15</td>\n",
       "      <td>Star Wars Ep. VIII: The Last Jedi</td>\n",
       "      <td>317000000.0</td>\n",
       "      <td>620181382.0</td>\n",
       "      <td>1.316722e+09</td>\n",
       "      <td>12</td>\n",
       "      <td>2017</td>\n",
       "    </tr>\n",
       "  </tbody>\n",
       "</table>\n",
       "</div>"
      ],
      "text/plain": [
       "   id release_date                                        movie  \\\n",
       "0   1   2009-12-18                                       Avatar   \n",
       "1   2   2011-05-20  Pirates of the Caribbean: On Stranger Tides   \n",
       "2   3   2019-06-07                                 Dark Phoenix   \n",
       "3   4   2015-05-01                      Avengers: Age of Ultron   \n",
       "4   5   2017-12-15            Star Wars Ep. VIII: The Last Jedi   \n",
       "\n",
       "   production_budget  domestic_gross  worldwide_gross  release_month  \\\n",
       "0        425000000.0     760507625.0     2.776345e+09             12   \n",
       "1        410600000.0     241063875.0     1.045664e+09              5   \n",
       "2        350000000.0      42762350.0     1.497624e+08              6   \n",
       "3        330600000.0     459005868.0     1.403014e+09              5   \n",
       "4        317000000.0     620181382.0     1.316722e+09             12   \n",
       "\n",
       "   release_year  \n",
       "0          2009  \n",
       "1          2011  \n",
       "2          2019  \n",
       "3          2015  \n",
       "4          2017  "
      ]
     },
     "execution_count": 95,
     "metadata": {},
     "output_type": "execute_result"
    }
   ],
   "source": [
    "# Convert release_date to datetime and extract month and year for analysis\n",
    "budget['release_date'] = pd.to_datetime(budget['release_date'], errors='coerce')\n",
    "budget['release_month'] = budget['release_date'].dt.month\n",
    "budget['release_year'] = budget['release_date'].dt.year\n",
    "budget.head()"
   ]
  },
  {
   "cell_type": "markdown",
   "metadata": {},
   "source": [
    "### Aggregating Monthly Data\n",
    "Grouping by release_month to calculate the count of movies released and the average budget, domestic gross, and worldwide gross."
   ]
  },
  {
   "cell_type": "code",
   "execution_count": 96,
   "metadata": {},
   "outputs": [],
   "source": [
    "# Aggregate data by month to analyze release trends and financials\n",
    "monthly_data =budget.groupby('release_month').agg(\n",
    "    release_count=('id', 'size'),  # Count of movies released\n",
    "    avg_budget=('production_budget', 'mean'),  # Average production budget\n",
    "    avg_domestic_gross=('domestic_gross', 'mean'),  # Average domestic revenue\n",
    "    avg_worldwide_gross=('worldwide_gross', 'mean')  # Average worldwide revenue\n",
    ").reset_index()"
   ]
  },
  {
   "cell_type": "code",
   "execution_count": 97,
   "metadata": {},
   "outputs": [
    {
     "data": {
      "image/png": "[encoded data removed]",
      "text/plain": [
       "<Figure size 720x432 with 1 Axes>"
      ]
     },
     "metadata": {
      "needs_background": "light"
     },
     "output_type": "display_data"
    }
   ],
   "source": [
    "# Plot the number of releases per month\n",
    "plt.figure(figsize=(10, 6))\n",
    "sns.barplot(data=monthly_data,x='release_month', y='release_count',palette= 'viridis')\n",
    "plt.title('Number of Movie Releases by Month')\n",
    "plt.xlabel('Month')\n",
    "plt.ylabel('Number of Releases')\n",
    "plt.xticks(ticks=range(12), labels=['Jan', 'Feb', 'Mar', 'Apr', 'May', 'Jun', 'Jul', 'Aug', 'Sep', 'Oct', 'Nov', 'Dec'], rotation=45)\n",
    "plt.show()"
   ]
  },
  {
   "cell_type": "markdown",
   "metadata": {},
   "source": [
    "## Analyzing Revenue by Month\n",
    "We can further plot the average box office revenue for movies released each month to see if there is a correlation between release timing and financial success."
   ]
  },
  {
   "cell_type": "code",
   "execution_count": 98,
   "metadata": {},
   "outputs": [
    {
     "data": {
      "image/png": "[encoded data removed]",
      "text/plain": [
       "<Figure size 1008x432 with 3 Axes>"
      ]
     },
     "metadata": {
      "needs_background": "light"
     },
     "output_type": "display_data"
    }
   ],
   "source": [
    "fig, axs = plt.subplots(1, 3, figsize=(14, 6))\n",
    "\n",
    "# Average Budget by Month\n",
    "sns.barplot(data=monthly_data, x='release_month', y='avg_budget', palette='viridis', ax=axs[0])\n",
    "axs[0].set_title('Average Production Budget by Month')\n",
    "axs[0].set_xlabel('Month')\n",
    "axs[0].set_ylabel('Average Budget ($)')\n",
    "axs[0].set_xticks(range(0, 12))\n",
    "axs[0].set_xticklabels(['Jan', 'Feb', 'Mar', 'Apr', 'May', 'Jun', 'Jul', 'Aug', 'Sep', 'Oct', 'Nov', 'Dec'],rotation=45)\n",
    "\n",
    "# Average Domestic Gross by Month\n",
    "sns.barplot(data=monthly_data, x='release_month', y='avg_domestic_gross', palette='viridis', ax=axs[1])\n",
    "axs[1].set_title('Average Domestic Gross by Month')\n",
    "axs[1].set_xlabel('Month')\n",
    "axs[1].set_ylabel('Average Domestic Gross ($)')\n",
    "axs[1].set_xticks(range(0, 12))\n",
    "axs[1].set_xticklabels(['Jan', 'Feb', 'Mar', 'Apr', 'May', 'Jun', 'Jul', 'Aug', 'Sep', 'Oct', 'Nov', 'Dec'],rotation=45)\n",
    "\n",
    "# Average Worldwide Gross by Month\n",
    "sns.barplot(data=monthly_data, x='release_month', y='avg_worldwide_gross', palette='viridis', ax=axs[2])\n",
    "axs[2].set_title('Average Worldwide Gross by Month')\n",
    "axs[2].set_xlabel('Month')\n",
    "axs[2].set_ylabel('Average Worldwide Gross ($)')\n",
    "axs[2].set_xticks(ticks=range(0,12))\n",
    "axs[2].set_xticklabels(['Jan', 'Feb', 'Mar', 'Apr', 'May', 'Jun', 'Jul', 'Aug', 'Sep', 'Oct', 'Nov', 'Dec'],rotation=45)\n",
    "\n",
    "plt.tight_layout();"
   ]
  },
  {
   "cell_type": "markdown",
   "metadata": {},
   "source": [
    "### **Observation**\n",
    "- Revenue Trends: \n",
    "December, July, and May exhibit higher average worldwide and domestic revenues, suggesting that films released in these months tend to perform well financially.\n",
    "This trend likely reflects the appeal of holiday and summer periods, when audiences have more leisure time to visit theaters.\n",
    "\n",
    "- Average Production Budget:\n",
    "December has high average production budgets, likely associated with blockbuster releases targeting the holiday season.\n",
    "May through July also see relatively high budgets, aligning with summer releases that often aim for large audiences."
   ]
  },
  {
   "cell_type": "markdown",
   "metadata": {},
   "source": [
    "## Statistical Analysis \n",
    "### Testing for Monthly Release Distribution Uniformity\n",
    "\n",
    "To determine if movies are uniformly released throughout the year, we can use a chi-square test. This test will help us see if the observed distribution of movie releases across months significantly deviates from a uniform distribution."
   ]
  },
  {
   "cell_type": "code",
   "execution_count": 99,
   "metadata": {},
   "outputs": [
    {
     "name": "stdout",
     "output_type": "stream",
     "text": [
      "Chi-square Statistic: 233.34555517122104, P-value: 8.493608319019405e-44\n",
      "The distribution of movie releases across months is significantly different from uniform.\n"
     ]
    }
   ],
   "source": [
    "#Calculating Chi-square statistic\n",
    "from scipy.stats import chisquare\n",
    "\n",
    "# Perform chi-square test on the frequency of releases per month\n",
    "observed_releases = monthly_data['release_count'].values\n",
    "expected_releases = [monthly_data['release_count'].mean()] * 12  # Expected value for uniform distribution\n",
    "\n",
    "chi_stat, p_value = chisquare(observed_releases, expected_releases)\n",
    "print(f\"Chi-square Statistic: {chi_stat}, P-value: {p_value}\")\n",
    "\n",
    "if p_value < 0.05:\n",
    "    print(\"The distribution of movie releases across months is significantly different from uniform.\")\n",
    "else:\n",
    "    print(\"The distribution of movie releases across months is not significantly different from uniform.\")"
   ]
  },
  {
   "cell_type": "code",
   "execution_count": 100,
   "metadata": {},
   "outputs": [
    {
     "data": {
      "image/png": "[encoded data removed]",
      "text/plain": [
       "<Figure size 864x432 with 1 Axes>"
      ]
     },
     "metadata": {
      "needs_background": "light"
     },
     "output_type": "display_data"
    }
   ],
   "source": [
    "#Visual representation of the chi-square results\n",
    "months = monthly_data['release_count'].index\n",
    "bar_width = 0.35\n",
    "x = np.arange(len(months))\n",
    "\n",
    "# Create figure and axis\n",
    "plt.figure(figsize=(12, 6))\n",
    "\n",
    "# Plot observed releases as bars\n",
    "plt.bar(x - bar_width/2, observed_releases, width=bar_width, label='Observed Releases', color='skyblue')\n",
    "\n",
    "# Plot expected releases as bars\n",
    "plt.bar(x + bar_width/2, expected_releases, width=bar_width, label='Expected Releases', color='orange')\n",
    "\n",
    "# Add labels, title, and legend\n",
    "plt.xlabel(\"Month\")\n",
    "plt.ylabel(\"Number of Releases\")\n",
    "plt.title(\"Observed vs Expected Movie Releases per Month\")\n",
    "plt.xticks(x, months)  # Set x-axis labels to month names\n",
    "plt.legend()\n",
    "\n",
    "# Show the plot\n",
    "plt.tight_layout()\n",
    "plt.show()"
   ]
  },
  {
   "cell_type": "markdown",
   "metadata": {},
   "source": [
    "### **Observation**\n",
    "- The bar chart is comparing observed and expected monthly movie releases revealing noticeable deviations from a uniform distribution. Specifically, January shows significantly fewer releases than expected, while December has substantially more, suggesting seasonal trends. Smaller but consistent deviations are also visible in months like February, July, and August.\n",
    "- The chi-square test yields a chi-square statistic of 233.35 and a p-value of 8.49e-44, which is far below the 0.05 significance threshold. This result confirms that the observed distribution of movie releases across months is statistically significantly different from a uniform (even) distribution."
   ]
  },
  {
   "cell_type": "markdown",
   "metadata": {},
   "source": [
    "### Recommendation\n",
    "1.Focus on releasing big-budget movies in December and summer months (May to July) to leverage peak moviegoing times.\n",
    "\n",
    "2.Allocate larger budgets to films slated for release in these high-performance months, aiming for broad audience appeal and potential blockbuster status."
   ]
  },
  {
   "cell_type": "markdown",
   "metadata": {},
   "source": [
    "### Question 2.1 : Analysis of movie profitability across the release months."
   ]
  },
  {
   "cell_type": "code",
   "execution_count": 101,
   "metadata": {},
   "outputs": [
    {
     "data": {
      "text/html": [
       "<div>\n",
       "<style scoped>\n",
       "    .dataframe tbody tr th:only-of-type {\n",
       "        vertical-align: middle;\n",
       "    }\n",
       "\n",
       "    .dataframe tbody tr th {\n",
       "        vertical-align: top;\n",
       "    }\n",
       "\n",
       "    .dataframe thead th {\n",
       "        text-align: right;\n",
       "    }\n",
       "</style>\n",
       "<table border=\"1\" class=\"dataframe\">\n",
       "  <thead>\n",
       "    <tr style=\"text-align: right;\">\n",
       "      <th></th>\n",
       "      <th>id</th>\n",
       "      <th>release_date</th>\n",
       "      <th>movie</th>\n",
       "      <th>production_budget</th>\n",
       "      <th>domestic_gross</th>\n",
       "      <th>worldwide_gross</th>\n",
       "      <th>release_month</th>\n",
       "      <th>release_year</th>\n",
       "      <th>total_gross</th>\n",
       "      <th>profit</th>\n",
       "    </tr>\n",
       "  </thead>\n",
       "  <tbody>\n",
       "    <tr>\n",
       "      <th>0</th>\n",
       "      <td>1</td>\n",
       "      <td>2009-12-18</td>\n",
       "      <td>Avatar</td>\n",
       "      <td>425000000.0</td>\n",
       "      <td>760507625.0</td>\n",
       "      <td>2.776345e+09</td>\n",
       "      <td>12</td>\n",
       "      <td>2009</td>\n",
       "      <td>3.536853e+09</td>\n",
       "      <td>3.111853e+09</td>\n",
       "    </tr>\n",
       "    <tr>\n",
       "      <th>1</th>\n",
       "      <td>2</td>\n",
       "      <td>2011-05-20</td>\n",
       "      <td>Pirates of the Caribbean: On Stranger Tides</td>\n",
       "      <td>410600000.0</td>\n",
       "      <td>241063875.0</td>\n",
       "      <td>1.045664e+09</td>\n",
       "      <td>5</td>\n",
       "      <td>2011</td>\n",
       "      <td>1.286728e+09</td>\n",
       "      <td>8.761278e+08</td>\n",
       "    </tr>\n",
       "    <tr>\n",
       "      <th>2</th>\n",
       "      <td>3</td>\n",
       "      <td>2019-06-07</td>\n",
       "      <td>Dark Phoenix</td>\n",
       "      <td>350000000.0</td>\n",
       "      <td>42762350.0</td>\n",
       "      <td>1.497624e+08</td>\n",
       "      <td>6</td>\n",
       "      <td>2019</td>\n",
       "      <td>1.925247e+08</td>\n",
       "      <td>-1.574753e+08</td>\n",
       "    </tr>\n",
       "    <tr>\n",
       "      <th>3</th>\n",
       "      <td>4</td>\n",
       "      <td>2015-05-01</td>\n",
       "      <td>Avengers: Age of Ultron</td>\n",
       "      <td>330600000.0</td>\n",
       "      <td>459005868.0</td>\n",
       "      <td>1.403014e+09</td>\n",
       "      <td>5</td>\n",
       "      <td>2015</td>\n",
       "      <td>1.862020e+09</td>\n",
       "      <td>1.531420e+09</td>\n",
       "    </tr>\n",
       "    <tr>\n",
       "      <th>4</th>\n",
       "      <td>5</td>\n",
       "      <td>2017-12-15</td>\n",
       "      <td>Star Wars Ep. VIII: The Last Jedi</td>\n",
       "      <td>317000000.0</td>\n",
       "      <td>620181382.0</td>\n",
       "      <td>1.316722e+09</td>\n",
       "      <td>12</td>\n",
       "      <td>2017</td>\n",
       "      <td>1.936903e+09</td>\n",
       "      <td>1.619903e+09</td>\n",
       "    </tr>\n",
       "  </tbody>\n",
       "</table>\n",
       "</div>"
      ],
      "text/plain": [
       "   id release_date                                        movie  \\\n",
       "0   1   2009-12-18                                       Avatar   \n",
       "1   2   2011-05-20  Pirates of the Caribbean: On Stranger Tides   \n",
       "2   3   2019-06-07                                 Dark Phoenix   \n",
       "3   4   2015-05-01                      Avengers: Age of Ultron   \n",
       "4   5   2017-12-15            Star Wars Ep. VIII: The Last Jedi   \n",
       "\n",
       "   production_budget  domestic_gross  worldwide_gross  release_month  \\\n",
       "0        425000000.0     760507625.0     2.776345e+09             12   \n",
       "1        410600000.0     241063875.0     1.045664e+09              5   \n",
       "2        350000000.0      42762350.0     1.497624e+08              6   \n",
       "3        330600000.0     459005868.0     1.403014e+09              5   \n",
       "4        317000000.0     620181382.0     1.316722e+09             12   \n",
       "\n",
       "   release_year   total_gross        profit  \n",
       "0          2009  3.536853e+09  3.111853e+09  \n",
       "1          2011  1.286728e+09  8.761278e+08  \n",
       "2          2019  1.925247e+08 -1.574753e+08  \n",
       "3          2015  1.862020e+09  1.531420e+09  \n",
       "4          2017  1.936903e+09  1.619903e+09  "
      ]
     },
     "execution_count": 101,
     "metadata": {},
     "output_type": "execute_result"
    }
   ],
   "source": [
    "# Calculate Total gross\n",
    "budget['total_gross'] = budget['worldwide_gross'] + budget['domestic_gross']\n",
    "# Calculate profit\n",
    "budget['profit'] = (budget['total_gross'] - budget['production_budget'])\n",
    "\n",
    "budget.head()"
   ]
  },
  {
   "cell_type": "code",
   "execution_count": 102,
   "metadata": {},
   "outputs": [],
   "source": [
    "# Calculate average profit and total_gross by month\n",
    "monthly_seasonality = budget.groupby('release_month').agg(\n",
    "    avg_total_gross=('total_gross', 'mean'),\n",
    "    avg_profit=('profit', 'mean')\n",
    ").sort_values(by='avg_profit', ascending=False).reset_index()"
   ]
  },
  {
   "cell_type": "markdown",
   "metadata": {},
   "source": [
    "## Visualizations \n",
    "The visuals showing Average Profit and Average Total Gross"
   ]
  },
  {
   "cell_type": "code",
   "execution_count": 103,
   "metadata": {},
   "outputs": [
    {
     "data": {
      "image/png": "[encoded data removed]",
      "text/plain": [
       "<Figure size 1008x432 with 2 Axes>"
      ]
     },
     "metadata": {
      "needs_background": "light"
     },
     "output_type": "display_data"
    }
   ],
   "source": [
    "fig, axs = plt.subplots(1, 2, figsize=(14,6))\n",
    "\n",
    "# Average Profit by Month\n",
    "sns.barplot(data=monthly_seasonality, x=monthly_seasonality['release_month'], y=monthly_seasonality['avg_profit'], palette='viridis', ax=axs[0])\n",
    "axs[0].set_title(\"Average profit by Release Month\")\n",
    "axs[0].set_xlabel(\"Release Month\")\n",
    "axs[0].set_ylabel(\"Average profit ($)\")\n",
    "axs[0].set_xticks(range(12))\n",
    "axs[0].set_xticklabels([\n",
    "    'Jan', 'Feb', 'Mar', 'Apr', 'May', 'Jun', 'Jul', 'Aug', 'Sep', 'Oct', 'Nov', 'Dec'\n",
    "])\n",
    "\n",
    "# Average Total Gross by Month\n",
    "sns.barplot(data=monthly_seasonality, x=monthly_seasonality['release_month'], y=monthly_seasonality['avg_total_gross'], palette='viridis', ax=axs[1])\n",
    "axs[1].set_title(\"Average Total Gross by Release Month\")\n",
    "axs[1].set_xlabel(\"Release Month\")\n",
    "axs[1].set_ylabel(\"Avg_Total_Gross ($)\")\n",
    "axs[1].set_xticks(range(0,12)) \n",
    "axs[1].set_xticklabels([\n",
    "    'Jan', 'Feb', 'Mar', 'Apr', 'May', 'Jun', 'Jul', 'Aug', 'Sep', 'Oct', 'Nov', 'Dec'\n",
    "])\n",
    "\n",
    "plt.tight_layout()\n",
    "plt.show()"
   ]
  },
  {
   "cell_type": "markdown",
   "metadata": {},
   "source": [
    "#### Observations\n",
    "1. From the Barchat, it is clear that Most profitable months to release are during May, June, July, November and December. This is particularly because these are times of the year are both summer and Holiday Seasons where many people have alot of time to watch movies. The Least Profitable months being Jan and September."
   ]
  },
  {
   "cell_type": "markdown",
   "metadata": {},
   "source": [
    "## Statistical Analysis"
   ]
  },
  {
   "cell_type": "code",
   "execution_count": 104,
   "metadata": {},
   "outputs": [
    {
     "data": {
      "image/png": "[encoded data removed]",
      "text/plain": [
       "<Figure size 720x432 with 1 Axes>"
      ]
     },
     "metadata": {
      "needs_background": "light"
     },
     "output_type": "display_data"
    }
   ],
   "source": [
    "# Scatter plot with regression line\n",
    "\n",
    "plt.figure(figsize=(10, 6))\n",
    "\n",
    "sns.regplot(data=monthly_seasonality, x=\"avg_total_gross\", y=\"avg_profit\", marker=\"o\", color=\"green\", line_kws={\"color\": \"red\"})\n",
    "plt.title(\"Correlation between Average Total Gross and Average Profit\")\n",
    "plt.xlabel(\"Average Total Gross ($)\")\n",
    "plt.ylabel(\"Average Profit ($)\")\n",
    "\n",
    "plt.show()"
   ]
  },
  {
   "cell_type": "markdown",
   "metadata": {},
   "source": [
    "### **Observation**\n",
    "- Positive trend of the scatter plot, indicates that as the avg_total_gross increases, the avg_profit also tends to increase.\n",
    "\n",
    "- The regression line indicates a strong positive linear relationship, where higher total gross amounts are generally associated with higher profits."
   ]
  },
  {
   "cell_type": "code",
   "execution_count": 105,
   "metadata": {},
   "outputs": [
    {
     "data": {
      "text/plain": [
       "(0.9998499405185896, 5.990445879349743e-19)"
      ]
     },
     "execution_count": 105,
     "metadata": {},
     "output_type": "execute_result"
    }
   ],
   "source": [
    "#Pearson Correlation and p-value Analysis\n",
    "\n",
    "#Null_Hypothesis = There is no linear relationship\n",
    "#Alternative_Hypothesis = There exits a linear relationship \n",
    "\n",
    "#Calculate pearson correlation and p-value\n",
    "correlation, p_value = pearsonr(monthly_seasonality['avg_total_gross'], monthly_seasonality['avg_profit'])\n",
    "\n",
    "correlation, p_value"
   ]
  },
  {
   "cell_type": "markdown",
   "metadata": {},
   "source": [
    "### Observations\n",
    "- With Correlation coefeficient(r) = 0.9998, this is very close to +1, indicating a positive linear relationship between avg_total_gross and avg_profit. This means that as avg_total gross increases, avg_profit consistently increases at a proportional rate.\n",
    "- p_value = 5.99*10e-19, which is way below the common significance thresholds of 0.05 or 0.01. This means there exits a statistical significance allowing us to reject the null hypothesis that there is no linear relationship between avg_total_gross and avg_profit "
   ]
  },
  {
   "cell_type": "markdown",
   "metadata": {},
   "source": [
    "# Summary and Recommendations\n",
    "1. The studio should consider focusing on high-grossing months (May, June, July,November and December) as these months could yield the greatest profits due to their strong correlation"
   ]
  },
  {
   "cell_type": "markdown",
   "metadata": {},
   "source": [
    "## Objective 3 : Revenue Changes Over Time\n",
    "\n",
    "### Question How has the average box office revenue changed over time to identify trends that could impact movie production and marketing strategies?\n",
    "\n",
    "### For this objective, we have to match both income and movies datasets together to have one datafame for our analysis. "
   ]
  },
  {
   "cell_type": "code",
   "execution_count": 106,
   "metadata": {},
   "outputs": [
    {
     "data": {
      "text/html": [
       "<div>\n",
       "<style scoped>\n",
       "    .dataframe tbody tr th:only-of-type {\n",
       "        vertical-align: middle;\n",
       "    }\n",
       "\n",
       "    .dataframe tbody tr th {\n",
       "        vertical-align: top;\n",
       "    }\n",
       "\n",
       "    .dataframe thead th {\n",
       "        text-align: right;\n",
       "    }\n",
       "</style>\n",
       "<table border=\"1\" class=\"dataframe\">\n",
       "  <thead>\n",
       "    <tr style=\"text-align: right;\">\n",
       "      <th></th>\n",
       "      <th>title</th>\n",
       "      <th>studio</th>\n",
       "      <th>domestic_gross</th>\n",
       "      <th>foreign_gross</th>\n",
       "      <th>year</th>\n",
       "    </tr>\n",
       "  </thead>\n",
       "  <tbody>\n",
       "    <tr>\n",
       "      <th>0</th>\n",
       "      <td>Toy Story 3</td>\n",
       "      <td>BV</td>\n",
       "      <td>415000000.0</td>\n",
       "      <td>652000000</td>\n",
       "      <td>2010</td>\n",
       "    </tr>\n",
       "    <tr>\n",
       "      <th>1</th>\n",
       "      <td>Alice in Wonderland (2010)</td>\n",
       "      <td>BV</td>\n",
       "      <td>334200000.0</td>\n",
       "      <td>691300000</td>\n",
       "      <td>2010</td>\n",
       "    </tr>\n",
       "    <tr>\n",
       "      <th>2</th>\n",
       "      <td>Harry Potter and the Deathly Hallows Part 1</td>\n",
       "      <td>WB</td>\n",
       "      <td>296000000.0</td>\n",
       "      <td>664300000</td>\n",
       "      <td>2010</td>\n",
       "    </tr>\n",
       "    <tr>\n",
       "      <th>3</th>\n",
       "      <td>Inception</td>\n",
       "      <td>WB</td>\n",
       "      <td>292600000.0</td>\n",
       "      <td>535700000</td>\n",
       "      <td>2010</td>\n",
       "    </tr>\n",
       "    <tr>\n",
       "      <th>4</th>\n",
       "      <td>Shrek Forever After</td>\n",
       "      <td>P/DW</td>\n",
       "      <td>238700000.0</td>\n",
       "      <td>513900000</td>\n",
       "      <td>2010</td>\n",
       "    </tr>\n",
       "  </tbody>\n",
       "</table>\n",
       "</div>"
      ],
      "text/plain": [
       "                                         title studio  domestic_gross  \\\n",
       "0                                  Toy Story 3     BV     415000000.0   \n",
       "1                   Alice in Wonderland (2010)     BV     334200000.0   \n",
       "2  Harry Potter and the Deathly Hallows Part 1     WB     296000000.0   \n",
       "3                                    Inception     WB     292600000.0   \n",
       "4                          Shrek Forever After   P/DW     238700000.0   \n",
       "\n",
       "  foreign_gross  year  \n",
       "0     652000000  2010  \n",
       "1     691300000  2010  \n",
       "2     664300000  2010  \n",
       "3     535700000  2010  \n",
       "4     513900000  2010  "
      ]
     },
     "execution_count": 106,
     "metadata": {},
     "output_type": "execute_result"
    }
   ],
   "source": [
    "# Load the revenues dataset\n",
    "income = pd.read_csv(\"./DataSets/bom.movie_gross.csv\")\n",
    "income.head()"
   ]
  },
  {
   "cell_type": "code",
   "execution_count": 107,
   "metadata": {},
   "outputs": [
    {
     "data": {
      "text/html": [
       "<div>\n",
       "<style scoped>\n",
       "    .dataframe tbody tr th:only-of-type {\n",
       "        vertical-align: middle;\n",
       "    }\n",
       "\n",
       "    .dataframe tbody tr th {\n",
       "        vertical-align: top;\n",
       "    }\n",
       "\n",
       "    .dataframe thead th {\n",
       "        text-align: right;\n",
       "    }\n",
       "</style>\n",
       "<table border=\"1\" class=\"dataframe\">\n",
       "  <thead>\n",
       "    <tr style=\"text-align: right;\">\n",
       "      <th></th>\n",
       "      <th>Unnamed: 0</th>\n",
       "      <th>genre_ids</th>\n",
       "      <th>id</th>\n",
       "      <th>original_language</th>\n",
       "      <th>original_title</th>\n",
       "      <th>popularity</th>\n",
       "      <th>release_date</th>\n",
       "      <th>title</th>\n",
       "      <th>vote_average</th>\n",
       "      <th>vote_count</th>\n",
       "    </tr>\n",
       "  </thead>\n",
       "  <tbody>\n",
       "    <tr>\n",
       "      <th>0</th>\n",
       "      <td>0</td>\n",
       "      <td>[12, 14, 10751]</td>\n",
       "      <td>12444</td>\n",
       "      <td>en</td>\n",
       "      <td>Harry Potter and the Deathly Hallows: Part 1</td>\n",
       "      <td>33.533</td>\n",
       "      <td>2010-11-19</td>\n",
       "      <td>Harry Potter and the Deathly Hallows: Part 1</td>\n",
       "      <td>7.7</td>\n",
       "      <td>10788</td>\n",
       "    </tr>\n",
       "    <tr>\n",
       "      <th>1</th>\n",
       "      <td>1</td>\n",
       "      <td>[14, 12, 16, 10751]</td>\n",
       "      <td>10191</td>\n",
       "      <td>en</td>\n",
       "      <td>How to Train Your Dragon</td>\n",
       "      <td>28.734</td>\n",
       "      <td>2010-03-26</td>\n",
       "      <td>How to Train Your Dragon</td>\n",
       "      <td>7.7</td>\n",
       "      <td>7610</td>\n",
       "    </tr>\n",
       "    <tr>\n",
       "      <th>2</th>\n",
       "      <td>2</td>\n",
       "      <td>[12, 28, 878]</td>\n",
       "      <td>10138</td>\n",
       "      <td>en</td>\n",
       "      <td>Iron Man 2</td>\n",
       "      <td>28.515</td>\n",
       "      <td>2010-05-07</td>\n",
       "      <td>Iron Man 2</td>\n",
       "      <td>6.8</td>\n",
       "      <td>12368</td>\n",
       "    </tr>\n",
       "    <tr>\n",
       "      <th>3</th>\n",
       "      <td>3</td>\n",
       "      <td>[16, 35, 10751]</td>\n",
       "      <td>862</td>\n",
       "      <td>en</td>\n",
       "      <td>Toy Story</td>\n",
       "      <td>28.005</td>\n",
       "      <td>1995-11-22</td>\n",
       "      <td>Toy Story</td>\n",
       "      <td>7.9</td>\n",
       "      <td>10174</td>\n",
       "    </tr>\n",
       "    <tr>\n",
       "      <th>4</th>\n",
       "      <td>4</td>\n",
       "      <td>[28, 878, 12]</td>\n",
       "      <td>27205</td>\n",
       "      <td>en</td>\n",
       "      <td>Inception</td>\n",
       "      <td>27.920</td>\n",
       "      <td>2010-07-16</td>\n",
       "      <td>Inception</td>\n",
       "      <td>8.3</td>\n",
       "      <td>22186</td>\n",
       "    </tr>\n",
       "  </tbody>\n",
       "</table>\n",
       "</div>"
      ],
      "text/plain": [
       "   Unnamed: 0            genre_ids     id original_language  \\\n",
       "0           0      [12, 14, 10751]  12444                en   \n",
       "1           1  [14, 12, 16, 10751]  10191                en   \n",
       "2           2        [12, 28, 878]  10138                en   \n",
       "3           3      [16, 35, 10751]    862                en   \n",
       "4           4        [28, 878, 12]  27205                en   \n",
       "\n",
       "                                 original_title  popularity release_date  \\\n",
       "0  Harry Potter and the Deathly Hallows: Part 1      33.533   2010-11-19   \n",
       "1                      How to Train Your Dragon      28.734   2010-03-26   \n",
       "2                                    Iron Man 2      28.515   2010-05-07   \n",
       "3                                     Toy Story      28.005   1995-11-22   \n",
       "4                                     Inception      27.920   2010-07-16   \n",
       "\n",
       "                                          title  vote_average  vote_count  \n",
       "0  Harry Potter and the Deathly Hallows: Part 1           7.7       10788  \n",
       "1                      How to Train Your Dragon           7.7        7610  \n",
       "2                                    Iron Man 2           6.8       12368  \n",
       "3                                     Toy Story           7.9       10174  \n",
       "4                                     Inception           8.3       22186  "
      ]
     },
     "execution_count": 107,
     "metadata": {},
     "output_type": "execute_result"
    }
   ],
   "source": [
    "# load the movies dataset \n",
    "movies = pd.read_csv(\"./DataSets/tmdb.movies.csv\")\n",
    "movies.head()"
   ]
  },
  {
   "cell_type": "code",
   "execution_count": 108,
   "metadata": {},
   "outputs": [
    {
     "data": {
      "text/html": [
       "<div>\n",
       "<style scoped>\n",
       "    .dataframe tbody tr th:only-of-type {\n",
       "        vertical-align: middle;\n",
       "    }\n",
       "\n",
       "    .dataframe tbody tr th {\n",
       "        vertical-align: top;\n",
       "    }\n",
       "\n",
       "    .dataframe thead th {\n",
       "        text-align: right;\n",
       "    }\n",
       "</style>\n",
       "<table border=\"1\" class=\"dataframe\">\n",
       "  <thead>\n",
       "    <tr style=\"text-align: right;\">\n",
       "      <th></th>\n",
       "      <th>Unnamed: 0</th>\n",
       "      <th>genre_ids</th>\n",
       "      <th>id</th>\n",
       "      <th>original_language</th>\n",
       "      <th>original_title</th>\n",
       "      <th>popularity</th>\n",
       "      <th>release_date</th>\n",
       "      <th>title</th>\n",
       "      <th>vote_average</th>\n",
       "      <th>vote_count</th>\n",
       "      <th>studio</th>\n",
       "      <th>domestic_gross</th>\n",
       "      <th>foreign_gross</th>\n",
       "      <th>year</th>\n",
       "    </tr>\n",
       "  </thead>\n",
       "  <tbody>\n",
       "    <tr>\n",
       "      <th>0</th>\n",
       "      <td>1</td>\n",
       "      <td>[14, 12, 16, 10751]</td>\n",
       "      <td>10191</td>\n",
       "      <td>en</td>\n",
       "      <td>How to Train Your Dragon</td>\n",
       "      <td>28.734</td>\n",
       "      <td>2010-03-26</td>\n",
       "      <td>How to Train Your Dragon</td>\n",
       "      <td>7.7</td>\n",
       "      <td>7610</td>\n",
       "      <td>P/DW</td>\n",
       "      <td>217600000.0</td>\n",
       "      <td>277300000</td>\n",
       "      <td>2010</td>\n",
       "    </tr>\n",
       "    <tr>\n",
       "      <th>1</th>\n",
       "      <td>2</td>\n",
       "      <td>[12, 28, 878]</td>\n",
       "      <td>10138</td>\n",
       "      <td>en</td>\n",
       "      <td>Iron Man 2</td>\n",
       "      <td>28.515</td>\n",
       "      <td>2010-05-07</td>\n",
       "      <td>Iron Man 2</td>\n",
       "      <td>6.8</td>\n",
       "      <td>12368</td>\n",
       "      <td>Par.</td>\n",
       "      <td>312400000.0</td>\n",
       "      <td>311500000</td>\n",
       "      <td>2010</td>\n",
       "    </tr>\n",
       "    <tr>\n",
       "      <th>2</th>\n",
       "      <td>4</td>\n",
       "      <td>[28, 878, 12]</td>\n",
       "      <td>27205</td>\n",
       "      <td>en</td>\n",
       "      <td>Inception</td>\n",
       "      <td>27.920</td>\n",
       "      <td>2010-07-16</td>\n",
       "      <td>Inception</td>\n",
       "      <td>8.3</td>\n",
       "      <td>22186</td>\n",
       "      <td>WB</td>\n",
       "      <td>292600000.0</td>\n",
       "      <td>535700000</td>\n",
       "      <td>2010</td>\n",
       "    </tr>\n",
       "    <tr>\n",
       "      <th>3</th>\n",
       "      <td>7</td>\n",
       "      <td>[16, 10751, 35]</td>\n",
       "      <td>10193</td>\n",
       "      <td>en</td>\n",
       "      <td>Toy Story 3</td>\n",
       "      <td>24.445</td>\n",
       "      <td>2010-06-17</td>\n",
       "      <td>Toy Story 3</td>\n",
       "      <td>7.7</td>\n",
       "      <td>8340</td>\n",
       "      <td>BV</td>\n",
       "      <td>415000000.0</td>\n",
       "      <td>652000000</td>\n",
       "      <td>2010</td>\n",
       "    </tr>\n",
       "    <tr>\n",
       "      <th>4</th>\n",
       "      <td>8</td>\n",
       "      <td>[16, 10751, 35]</td>\n",
       "      <td>20352</td>\n",
       "      <td>en</td>\n",
       "      <td>Despicable Me</td>\n",
       "      <td>23.673</td>\n",
       "      <td>2010-07-09</td>\n",
       "      <td>Despicable Me</td>\n",
       "      <td>7.2</td>\n",
       "      <td>10057</td>\n",
       "      <td>Uni.</td>\n",
       "      <td>251500000.0</td>\n",
       "      <td>291600000</td>\n",
       "      <td>2010</td>\n",
       "    </tr>\n",
       "  </tbody>\n",
       "</table>\n",
       "</div>"
      ],
      "text/plain": [
       "   Unnamed: 0            genre_ids     id original_language  \\\n",
       "0           1  [14, 12, 16, 10751]  10191                en   \n",
       "1           2        [12, 28, 878]  10138                en   \n",
       "2           4        [28, 878, 12]  27205                en   \n",
       "3           7      [16, 10751, 35]  10193                en   \n",
       "4           8      [16, 10751, 35]  20352                en   \n",
       "\n",
       "             original_title  popularity release_date  \\\n",
       "0  How to Train Your Dragon      28.734   2010-03-26   \n",
       "1                Iron Man 2      28.515   2010-05-07   \n",
       "2                 Inception      27.920   2010-07-16   \n",
       "3               Toy Story 3      24.445   2010-06-17   \n",
       "4             Despicable Me      23.673   2010-07-09   \n",
       "\n",
       "                      title  vote_average  vote_count studio  domestic_gross  \\\n",
       "0  How to Train Your Dragon           7.7        7610   P/DW     217600000.0   \n",
       "1                Iron Man 2           6.8       12368   Par.     312400000.0   \n",
       "2                 Inception           8.3       22186     WB     292600000.0   \n",
       "3               Toy Story 3           7.7        8340     BV     415000000.0   \n",
       "4             Despicable Me           7.2       10057   Uni.     251500000.0   \n",
       "\n",
       "  foreign_gross  year  \n",
       "0     277300000  2010  \n",
       "1     311500000  2010  \n",
       "2     535700000  2010  \n",
       "3     652000000  2010  \n",
       "4     291600000  2010  "
      ]
     },
     "execution_count": 108,
     "metadata": {},
     "output_type": "execute_result"
    }
   ],
   "source": [
    "# merge the movies and revenue datasets to serve objective 5\n",
    "# preview the first 5 rows \n",
    "income_movies_merged = pd.merge(movies, income, on='title', how='inner')\n",
    "income_movies_merged.head()"
   ]
  },
  {
   "cell_type": "markdown",
   "metadata": {},
   "source": [
    "Now we have our merged dataset \"income_movies_merged\"\n",
    "we will proceed with preview, cleaning, analysis, interpretation and finally conclusion and recommendation "
   ]
  },
  {
   "cell_type": "markdown",
   "metadata": {},
   "source": [
    "## Data Inspection "
   ]
  },
  {
   "cell_type": "code",
   "execution_count": 109,
   "metadata": {},
   "outputs": [
    {
     "name": "stdout",
     "output_type": "stream",
     "text": [
      "<class 'pandas.core.frame.DataFrame'>\n",
      "Int64Index: 2703 entries, 0 to 2702\n",
      "Data columns (total 14 columns):\n",
      " #   Column             Non-Null Count  Dtype  \n",
      "---  ------             --------------  -----  \n",
      " 0   Unnamed: 0         2703 non-null   int64  \n",
      " 1   genre_ids          2703 non-null   object \n",
      " 2   id                 2703 non-null   int64  \n",
      " 3   original_language  2703 non-null   object \n",
      " 4   original_title     2703 non-null   object \n",
      " 5   popularity         2703 non-null   float64\n",
      " 6   release_date       2703 non-null   object \n",
      " 7   title              2703 non-null   object \n",
      " 8   vote_average       2703 non-null   float64\n",
      " 9   vote_count         2703 non-null   int64  \n",
      " 10  studio             2702 non-null   object \n",
      " 11  domestic_gross     2682 non-null   float64\n",
      " 12  foreign_gross      1723 non-null   object \n",
      " 13  year               2703 non-null   int64  \n",
      "dtypes: float64(3), int64(4), object(7)\n",
      "memory usage: 316.8+ KB\n"
     ]
    }
   ],
   "source": [
    "#  check overview\n",
    "income_movies_merged.info()"
   ]
  },
  {
   "cell_type": "code",
   "execution_count": 110,
   "metadata": {},
   "outputs": [
    {
     "data": {
      "text/plain": [
       "(2703, 14)"
      ]
     },
     "execution_count": 110,
     "metadata": {},
     "output_type": "execute_result"
    }
   ],
   "source": [
    "# check the shape \n",
    "income_movies_merged.shape"
   ]
  },
  {
   "cell_type": "code",
   "execution_count": 111,
   "metadata": {},
   "outputs": [
    {
     "data": {
      "text/html": [
       "<div>\n",
       "<style scoped>\n",
       "    .dataframe tbody tr th:only-of-type {\n",
       "        vertical-align: middle;\n",
       "    }\n",
       "\n",
       "    .dataframe tbody tr th {\n",
       "        vertical-align: top;\n",
       "    }\n",
       "\n",
       "    .dataframe thead th {\n",
       "        text-align: right;\n",
       "    }\n",
       "</style>\n",
       "<table border=\"1\" class=\"dataframe\">\n",
       "  <thead>\n",
       "    <tr style=\"text-align: right;\">\n",
       "      <th></th>\n",
       "      <th>Unnamed: 0</th>\n",
       "      <th>id</th>\n",
       "      <th>popularity</th>\n",
       "      <th>vote_average</th>\n",
       "      <th>vote_count</th>\n",
       "      <th>domestic_gross</th>\n",
       "      <th>year</th>\n",
       "    </tr>\n",
       "  </thead>\n",
       "  <tbody>\n",
       "    <tr>\n",
       "      <th>count</th>\n",
       "      <td>2703.000000</td>\n",
       "      <td>2703.000000</td>\n",
       "      <td>2703.000000</td>\n",
       "      <td>2703.000000</td>\n",
       "      <td>2703.000000</td>\n",
       "      <td>2.682000e+03</td>\n",
       "      <td>2703.000000</td>\n",
       "    </tr>\n",
       "    <tr>\n",
       "      <th>mean</th>\n",
       "      <td>11686.778024</td>\n",
       "      <td>213291.491306</td>\n",
       "      <td>10.002752</td>\n",
       "      <td>6.418572</td>\n",
       "      <td>1358.194599</td>\n",
       "      <td>3.629150e+07</td>\n",
       "      <td>2014.044395</td>\n",
       "    </tr>\n",
       "    <tr>\n",
       "      <th>std</th>\n",
       "      <td>7459.175381</td>\n",
       "      <td>139706.978070</td>\n",
       "      <td>7.294182</td>\n",
       "      <td>0.916424</td>\n",
       "      <td>2408.885097</td>\n",
       "      <td>7.734897e+07</td>\n",
       "      <td>2.440458</td>\n",
       "    </tr>\n",
       "    <tr>\n",
       "      <th>min</th>\n",
       "      <td>1.000000</td>\n",
       "      <td>1771.000000</td>\n",
       "      <td>0.600000</td>\n",
       "      <td>0.000000</td>\n",
       "      <td>1.000000</td>\n",
       "      <td>1.000000e+02</td>\n",
       "      <td>2010.000000</td>\n",
       "    </tr>\n",
       "    <tr>\n",
       "      <th>25%</th>\n",
       "      <td>5289.000000</td>\n",
       "      <td>76493.500000</td>\n",
       "      <td>5.881000</td>\n",
       "      <td>5.900000</td>\n",
       "      <td>78.000000</td>\n",
       "      <td>2.000000e+05</td>\n",
       "      <td>2012.000000</td>\n",
       "    </tr>\n",
       "    <tr>\n",
       "      <th>50%</th>\n",
       "      <td>11319.000000</td>\n",
       "      <td>209249.000000</td>\n",
       "      <td>8.627000</td>\n",
       "      <td>6.500000</td>\n",
       "      <td>393.000000</td>\n",
       "      <td>3.800000e+06</td>\n",
       "      <td>2014.000000</td>\n",
       "    </tr>\n",
       "    <tr>\n",
       "      <th>75%</th>\n",
       "      <td>17675.000000</td>\n",
       "      <td>334521.500000</td>\n",
       "      <td>12.698500</td>\n",
       "      <td>7.000000</td>\n",
       "      <td>1440.000000</td>\n",
       "      <td>3.882500e+07</td>\n",
       "      <td>2016.000000</td>\n",
       "    </tr>\n",
       "    <tr>\n",
       "      <th>max</th>\n",
       "      <td>26506.000000</td>\n",
       "      <td>574534.000000</td>\n",
       "      <td>80.773000</td>\n",
       "      <td>10.000000</td>\n",
       "      <td>22186.000000</td>\n",
       "      <td>9.367000e+08</td>\n",
       "      <td>2018.000000</td>\n",
       "    </tr>\n",
       "  </tbody>\n",
       "</table>\n",
       "</div>"
      ],
      "text/plain": [
       "         Unnamed: 0             id   popularity  vote_average    vote_count  \\\n",
       "count   2703.000000    2703.000000  2703.000000   2703.000000   2703.000000   \n",
       "mean   11686.778024  213291.491306    10.002752      6.418572   1358.194599   \n",
       "std     7459.175381  139706.978070     7.294182      0.916424   2408.885097   \n",
       "min        1.000000    1771.000000     0.600000      0.000000      1.000000   \n",
       "25%     5289.000000   76493.500000     5.881000      5.900000     78.000000   \n",
       "50%    11319.000000  209249.000000     8.627000      6.500000    393.000000   \n",
       "75%    17675.000000  334521.500000    12.698500      7.000000   1440.000000   \n",
       "max    26506.000000  574534.000000    80.773000     10.000000  22186.000000   \n",
       "\n",
       "       domestic_gross         year  \n",
       "count    2.682000e+03  2703.000000  \n",
       "mean     3.629150e+07  2014.044395  \n",
       "std      7.734897e+07     2.440458  \n",
       "min      1.000000e+02  2010.000000  \n",
       "25%      2.000000e+05  2012.000000  \n",
       "50%      3.800000e+06  2014.000000  \n",
       "75%      3.882500e+07  2016.000000  \n",
       "max      9.367000e+08  2018.000000  "
      ]
     },
     "execution_count": 111,
     "metadata": {},
     "output_type": "execute_result"
    }
   ],
   "source": [
    "# check for statistical description\n",
    "income_movies_merged.describe()"
   ]
  },
  {
   "cell_type": "markdown",
   "metadata": {},
   "source": [
    "# Data Cleaning and Processing"
   ]
  },
  {
   "cell_type": "code",
   "execution_count": 112,
   "metadata": {},
   "outputs": [
    {
     "data": {
      "text/plain": [
       "Unnamed: 0             0\n",
       "genre_ids              0\n",
       "id                     0\n",
       "original_language      0\n",
       "original_title         0\n",
       "popularity             0\n",
       "release_date           0\n",
       "title                  0\n",
       "vote_average           0\n",
       "vote_count             0\n",
       "studio                 1\n",
       "domestic_gross        21\n",
       "foreign_gross        980\n",
       "year                   0\n",
       "dtype: int64"
      ]
     },
     "execution_count": 112,
     "metadata": {},
     "output_type": "execute_result"
    }
   ],
   "source": [
    "# check for null values \n",
    "income_movies_merged.isnull().sum()"
   ]
  },
  {
   "cell_type": "markdown",
   "metadata": {},
   "source": [
    "### Data type conversion \n",
    "The 'foreign_gross' column is in the form of an object instead of numeric and we must convert to a float. "
   ]
  },
  {
   "cell_type": "code",
   "execution_count": 113,
   "metadata": {},
   "outputs": [],
   "source": [
    "# convert object to foat \n",
    "income_movies_merged['foreign_gross'] = income_movies_merged['foreign_gross'].replace({',': ''}, regex=True).astype(float)"
   ]
  },
  {
   "cell_type": "markdown",
   "metadata": {},
   "source": [
    "### Remove null values \n",
    "From our observation, We have three columns wih null values which we should drop for us to achieve our objctive. "
   ]
  },
  {
   "cell_type": "code",
   "execution_count": 114,
   "metadata": {},
   "outputs": [],
   "source": [
    "# drop null values \n",
    "df = income_movies_merged.dropna()"
   ]
  },
  {
   "cell_type": "code",
   "execution_count": 115,
   "metadata": {},
   "outputs": [
    {
     "data": {
      "text/plain": [
       "(1701, 14)"
      ]
     },
     "execution_count": 115,
     "metadata": {},
     "output_type": "execute_result"
    }
   ],
   "source": [
    "# check the shape after dropping the null values \n",
    "df.shape"
   ]
  },
  {
   "cell_type": "markdown",
   "metadata": {},
   "source": [
    "### Drop unnecessary columns \n",
    "We have to drop columns which are not important to our study "
   ]
  },
  {
   "cell_type": "code",
   "execution_count": 116,
   "metadata": {},
   "outputs": [],
   "source": [
    "# drop columns \n",
    "df_1 = df.drop(columns=[\"vote_count\", \"id\", \"original_language\", \"original_title\",\"popularity\", \"genre_ids\"])"
   ]
  },
  {
   "cell_type": "code",
   "execution_count": 117,
   "metadata": {},
   "outputs": [
    {
     "data": {
      "text/plain": [
       "Index(['Unnamed: 0', 'release_date', 'title', 'vote_average', 'studio',\n",
       "       'domestic_gross', 'foreign_gross', 'year'],\n",
       "      dtype='object')"
      ]
     },
     "execution_count": 117,
     "metadata": {},
     "output_type": "execute_result"
    }
   ],
   "source": [
    "# preview the remaining columns \n",
    "df_1.columns"
   ]
  },
  {
   "cell_type": "code",
   "execution_count": 118,
   "metadata": {},
   "outputs": [
    {
     "data": {
      "text/html": [
       "<div>\n",
       "<style scoped>\n",
       "    .dataframe tbody tr th:only-of-type {\n",
       "        vertical-align: middle;\n",
       "    }\n",
       "\n",
       "    .dataframe tbody tr th {\n",
       "        vertical-align: top;\n",
       "    }\n",
       "\n",
       "    .dataframe thead th {\n",
       "        text-align: right;\n",
       "    }\n",
       "</style>\n",
       "<table border=\"1\" class=\"dataframe\">\n",
       "  <thead>\n",
       "    <tr style=\"text-align: right;\">\n",
       "      <th></th>\n",
       "      <th>release_date</th>\n",
       "      <th>title</th>\n",
       "      <th>vote_average</th>\n",
       "      <th>studio</th>\n",
       "      <th>domestic_gross</th>\n",
       "      <th>foreign_gross</th>\n",
       "      <th>year</th>\n",
       "    </tr>\n",
       "  </thead>\n",
       "  <tbody>\n",
       "    <tr>\n",
       "      <th>0</th>\n",
       "      <td>2010-03-26</td>\n",
       "      <td>How to Train Your Dragon</td>\n",
       "      <td>7.7</td>\n",
       "      <td>P/DW</td>\n",
       "      <td>217600000.0</td>\n",
       "      <td>277300000.0</td>\n",
       "      <td>2010</td>\n",
       "    </tr>\n",
       "    <tr>\n",
       "      <th>1</th>\n",
       "      <td>2010-05-07</td>\n",
       "      <td>Iron Man 2</td>\n",
       "      <td>6.8</td>\n",
       "      <td>Par.</td>\n",
       "      <td>312400000.0</td>\n",
       "      <td>311500000.0</td>\n",
       "      <td>2010</td>\n",
       "    </tr>\n",
       "    <tr>\n",
       "      <th>2</th>\n",
       "      <td>2010-07-16</td>\n",
       "      <td>Inception</td>\n",
       "      <td>8.3</td>\n",
       "      <td>WB</td>\n",
       "      <td>292600000.0</td>\n",
       "      <td>535700000.0</td>\n",
       "      <td>2010</td>\n",
       "    </tr>\n",
       "    <tr>\n",
       "      <th>3</th>\n",
       "      <td>2010-06-17</td>\n",
       "      <td>Toy Story 3</td>\n",
       "      <td>7.7</td>\n",
       "      <td>BV</td>\n",
       "      <td>415000000.0</td>\n",
       "      <td>652000000.0</td>\n",
       "      <td>2010</td>\n",
       "    </tr>\n",
       "    <tr>\n",
       "      <th>4</th>\n",
       "      <td>2010-07-09</td>\n",
       "      <td>Despicable Me</td>\n",
       "      <td>7.2</td>\n",
       "      <td>Uni.</td>\n",
       "      <td>251500000.0</td>\n",
       "      <td>291600000.0</td>\n",
       "      <td>2010</td>\n",
       "    </tr>\n",
       "  </tbody>\n",
       "</table>\n",
       "</div>"
      ],
      "text/plain": [
       "  release_date                     title  vote_average studio  domestic_gross  \\\n",
       "0   2010-03-26  How to Train Your Dragon           7.7   P/DW     217600000.0   \n",
       "1   2010-05-07                Iron Man 2           6.8   Par.     312400000.0   \n",
       "2   2010-07-16                 Inception           8.3     WB     292600000.0   \n",
       "3   2010-06-17               Toy Story 3           7.7     BV     415000000.0   \n",
       "4   2010-07-09             Despicable Me           7.2   Uni.     251500000.0   \n",
       "\n",
       "   foreign_gross  year  \n",
       "0    277300000.0  2010  \n",
       "1    311500000.0  2010  \n",
       "2    535700000.0  2010  \n",
       "3    652000000.0  2010  \n",
       "4    291600000.0  2010  "
      ]
     },
     "execution_count": 118,
     "metadata": {},
     "output_type": "execute_result"
    }
   ],
   "source": [
    "\n",
    "clean_data = df_1.drop(df.columns[0], axis=1)\n",
    "clean_data.head()"
   ]
  },
  {
   "cell_type": "markdown",
   "metadata": {},
   "source": [
    "### Aggregate Revenues \n",
    "We will create one column for total revenues from both regions "
   ]
  },
  {
   "cell_type": "code",
   "execution_count": 119,
   "metadata": {},
   "outputs": [],
   "source": [
    "# add one column of total revenues \n",
    "clean_data[\"Total_Revenue\"]=clean_data[\"domestic_gross\"] + clean_data[\"foreign_gross\"]"
   ]
  },
  {
   "cell_type": "code",
   "execution_count": 120,
   "metadata": {},
   "outputs": [],
   "source": [
    "# save the cleaned data\n",
    "clean_data.to_csv('./DataSets/Movie_Revenue.csv', index=False)"
   ]
  },
  {
   "cell_type": "markdown",
   "metadata": {},
   "source": [
    "# 2. Data Analysis "
   ]
  },
  {
   "cell_type": "code",
   "execution_count": 121,
   "metadata": {},
   "outputs": [
    {
     "data": {
      "text/html": [
       "<div>\n",
       "<style scoped>\n",
       "    .dataframe tbody tr th:only-of-type {\n",
       "        vertical-align: middle;\n",
       "    }\n",
       "\n",
       "    .dataframe tbody tr th {\n",
       "        vertical-align: top;\n",
       "    }\n",
       "\n",
       "    .dataframe thead th {\n",
       "        text-align: right;\n",
       "    }\n",
       "</style>\n",
       "<table border=\"1\" class=\"dataframe\">\n",
       "  <thead>\n",
       "    <tr style=\"text-align: right;\">\n",
       "      <th></th>\n",
       "      <th>release_date</th>\n",
       "      <th>title</th>\n",
       "      <th>vote_average</th>\n",
       "      <th>studio</th>\n",
       "      <th>domestic_gross</th>\n",
       "      <th>foreign_gross</th>\n",
       "      <th>year</th>\n",
       "      <th>Total_Revenue</th>\n",
       "    </tr>\n",
       "  </thead>\n",
       "  <tbody>\n",
       "    <tr>\n",
       "      <th>0</th>\n",
       "      <td>2010-03-26</td>\n",
       "      <td>How to Train Your Dragon</td>\n",
       "      <td>7.7</td>\n",
       "      <td>P/DW</td>\n",
       "      <td>217600000.0</td>\n",
       "      <td>277300000.0</td>\n",
       "      <td>2010</td>\n",
       "      <td>4.949000e+08</td>\n",
       "    </tr>\n",
       "    <tr>\n",
       "      <th>1</th>\n",
       "      <td>2010-05-07</td>\n",
       "      <td>Iron Man 2</td>\n",
       "      <td>6.8</td>\n",
       "      <td>Par.</td>\n",
       "      <td>312400000.0</td>\n",
       "      <td>311500000.0</td>\n",
       "      <td>2010</td>\n",
       "      <td>6.239000e+08</td>\n",
       "    </tr>\n",
       "    <tr>\n",
       "      <th>2</th>\n",
       "      <td>2010-07-16</td>\n",
       "      <td>Inception</td>\n",
       "      <td>8.3</td>\n",
       "      <td>WB</td>\n",
       "      <td>292600000.0</td>\n",
       "      <td>535700000.0</td>\n",
       "      <td>2010</td>\n",
       "      <td>8.283000e+08</td>\n",
       "    </tr>\n",
       "    <tr>\n",
       "      <th>3</th>\n",
       "      <td>2010-06-17</td>\n",
       "      <td>Toy Story 3</td>\n",
       "      <td>7.7</td>\n",
       "      <td>BV</td>\n",
       "      <td>415000000.0</td>\n",
       "      <td>652000000.0</td>\n",
       "      <td>2010</td>\n",
       "      <td>1.067000e+09</td>\n",
       "    </tr>\n",
       "    <tr>\n",
       "      <th>4</th>\n",
       "      <td>2010-07-09</td>\n",
       "      <td>Despicable Me</td>\n",
       "      <td>7.2</td>\n",
       "      <td>Uni.</td>\n",
       "      <td>251500000.0</td>\n",
       "      <td>291600000.0</td>\n",
       "      <td>2010</td>\n",
       "      <td>5.431000e+08</td>\n",
       "    </tr>\n",
       "  </tbody>\n",
       "</table>\n",
       "</div>"
      ],
      "text/plain": [
       "  release_date                     title  vote_average studio  domestic_gross  \\\n",
       "0   2010-03-26  How to Train Your Dragon           7.7   P/DW     217600000.0   \n",
       "1   2010-05-07                Iron Man 2           6.8   Par.     312400000.0   \n",
       "2   2010-07-16                 Inception           8.3     WB     292600000.0   \n",
       "3   2010-06-17               Toy Story 3           7.7     BV     415000000.0   \n",
       "4   2010-07-09             Despicable Me           7.2   Uni.     251500000.0   \n",
       "\n",
       "   foreign_gross  year  Total_Revenue  \n",
       "0    277300000.0  2010   4.949000e+08  \n",
       "1    311500000.0  2010   6.239000e+08  \n",
       "2    535700000.0  2010   8.283000e+08  \n",
       "3    652000000.0  2010   1.067000e+09  \n",
       "4    291600000.0  2010   5.431000e+08  "
      ]
     },
     "execution_count": 121,
     "metadata": {},
     "output_type": "execute_result"
    }
   ],
   "source": [
    "# reload cleaned data \n",
    "df_clean = pd.read_csv(\"./DataSets/Movie_Revenue.csv\")\n",
    "df_clean.head()"
   ]
  },
  {
   "cell_type": "markdown",
   "metadata": {},
   "source": [
    "### 2.1 Univariate Analysis of Revenues \n",
    "Here we analyze the distribution of domestic, foreign and total revenues."
   ]
  },
  {
   "cell_type": "code",
   "execution_count": 122,
   "metadata": {},
   "outputs": [
    {
     "data": {
      "image/png": "[encoded data removed]",
      "text/plain": [
       "<Figure size 720x432 with 1 Axes>"
      ]
     },
     "metadata": {
      "needs_background": "light"
     },
     "output_type": "display_data"
    }
   ],
   "source": [
    "# use kde plot to visualize the istribution of revenue \n",
    "plt.figure(figsize=(10, 6))\n",
    "\n",
    "sns.histplot(df_clean['domestic_gross'], kde=True, color='black',bins=10, label='Domestic Revenue')\n",
    "sns.histplot(df_clean['foreign_gross'], kde=True, color='orange',bins = 10, label='Foreign Revenue')\n",
    "sns.histplot(df_clean['Total_Revenue'], kde=True, color='g',bins=10, label='Total Revenue')\n",
    "plt.legend()\n",
    "plt.title('Distribution of Box Office Revenues', fontsize =15)\n",
    "plt.xlabel(\"Revenues\", fontsize=15)\n",
    "plt.ylabel(\"Count\", fontsize =15)\n",
    "plt.show()"
   ]
  },
  {
   "cell_type": "markdown",
   "metadata": {},
   "source": [
    "#### Interpretation \n",
    "From the graph we can note that majority of that data is clusterd and dense torwards the left. This means that majority of the data points are close to zero."
   ]
  },
  {
   "cell_type": "markdown",
   "metadata": {},
   "source": [
    "#### 2.1.1 Bivariate analysis of Revenues \n",
    "We will plot to see how domestic, foreign and total revenes have changed over years. This will help us understand understand trends over time."
   ]
  },
  {
   "cell_type": "code",
   "execution_count": 123,
   "metadata": {},
   "outputs": [
    {
     "data": {
      "image/png": "[encoded data removed]",
      "text/plain": [
       "<Figure size 720x432 with 1 Axes>"
      ]
     },
     "metadata": {
      "needs_background": "light"
     },
     "output_type": "display_data"
    }
   ],
   "source": [
    "# plot a line graph of average revenues againast time \n",
    "\n",
    "plt.figure(figsize=(10,6))\n",
    "avg_revenue_by_year = df_clean.groupby('year')['Total_Revenue'].mean() # data grouped by year and average calculated\n",
    "\n",
    "avg_revenue_by_year.plot(kind='line', marker='o', color='purple')\n",
    "plt.title('Average Total Box Office Revenue Over Time', fontsize = 15)\n",
    "plt.xlabel('Year', fontsize=15)\n",
    "plt.ylabel('Average Total Revenue (in billions)', fontsize=15)\n",
    "plt.grid(True)\n",
    "plt.show()"
   ]
  },
  {
   "cell_type": "markdown",
   "metadata": {},
   "source": [
    "### Interpretation \n",
    "The line graph shows an upward increase on average revenue. The revenue for the year between 2010 and 2011 showed constance in revenues, however there was a steady increase between the years 2011 and 2013. Again, there was a sharp decline between 2013 and 2014. Stability was again realized between 2014 and 2017. The year 2018 saw revenue decline again."
   ]
  },
  {
   "cell_type": "markdown",
   "metadata": {},
   "source": [
    "#### Domestic vs Foreign revenues \n",
    " It is also important for us to look at domestic and foreign revenues separately to spot trends in each region."
   ]
  },
  {
   "cell_type": "code",
   "execution_count": 124,
   "metadata": {},
   "outputs": [
    {
     "data": {
      "image/png": "[encoded data removed]",
      "text/plain": [
       "<Figure size 720x432 with 1 Axes>"
      ]
     },
     "metadata": {
      "needs_background": "light"
     },
     "output_type": "display_data"
    }
   ],
   "source": [
    "# calculate and visalize the average revenues for each region \n",
    "avg_domestic = df_clean.groupby('year')['domestic_gross'].mean()\n",
    "avg_foreign = df_clean.groupby('year')['foreign_gross'].mean()\n",
    "\n",
    "plt.figure(figsize=(10,6))\n",
    "plt.plot(avg_domestic.index, avg_domestic.values,marker='o', label='Domestic Revenue', color='y')\n",
    "plt.plot(avg_foreign.index, avg_foreign.values,marker='o', label='Foreign Revenue', color='green')\n",
    "plt.title('Average Domestic and Foreign Box Office Revenue Over Time', fontsize=15)\n",
    "plt.xlabel('year', fontsize=15)\n",
    "plt.ylabel('Average Revenue (in billions)', fontsize=15)\n",
    "plt.legend()\n",
    "plt.grid(True)\n",
    "plt.show()"
   ]
  },
  {
   "cell_type": "markdown",
   "metadata": {},
   "source": [
    "### Interpretation \n",
    "Both graphs shows an upward trend, meaning that over time, revenue in both the domestic and foreign revenue is generally increasing. This suggests growth in both markets, and this is a positive sign for the movie industry. On average, revenues are rising, however the pattern implies some volatilities."
   ]
  },
  {
   "cell_type": "markdown",
   "metadata": {},
   "source": [
    "#### Trend analysis: Rolling averge \n",
    " we wil apply a rolling average to smooth out year-to-year volatility and reveal longer-term trends in box office revenue."
   ]
  },
  {
   "cell_type": "code",
   "execution_count": 125,
   "metadata": {},
   "outputs": [
    {
     "data": {
      "image/png": "[encoded data removed]",
      "text/plain": [
       "<Figure size 720x432 with 1 Axes>"
      ]
     },
     "metadata": {
      "needs_background": "light"
     },
     "output_type": "display_data"
    }
   ],
   "source": [
    "# 3-year rolling average\n",
    "avg_revenue_rolling = avg_revenue_by_year.rolling(window=3).mean()  \n",
    "\n",
    "plt.figure(figsize=(10,6))\n",
    "avg_revenue_by_year.plot(label='Annual Average',marker='o', color='purple')\n",
    "avg_revenue_rolling.plot(label='Rolling Average (3 years)',marker='o', color='orange', linestyle='--')\n",
    "plt.title('Rolling Average of Total Box Office Revenue Over Time',fontsize=15)\n",
    "plt.xlabel('Year', fontsize=15)\n",
    "plt.ylabel('Average Total Revenue (in billions)', fontsize=15)\n",
    "plt.legend()\n",
    "plt.grid(True)\n",
    "plt.show()"
   ]
  },
  {
   "cell_type": "markdown",
   "metadata": {},
   "source": [
    "### Interpretation \n",
    "The rolling graph show an upward trend in the rolling average suggesting sustained growth in revenue. The stability of the rolling indicates that although there are volatile events, there is an overall growth in revenue."
   ]
  },
  {
   "cell_type": "markdown",
   "metadata": {},
   "source": [
    "### Statistical Testing and Anaysis \n",
    "Before we embark on any hypothesis testing, we will start by examining the descriptive statistics (mean, median, standard deviation, range) for the different revenue types and years.\n"
   ]
  },
  {
   "cell_type": "code",
   "execution_count": 126,
   "metadata": {},
   "outputs": [
    {
     "data": {
      "text/html": [
       "<div>\n",
       "<style scoped>\n",
       "    .dataframe tbody tr th:only-of-type {\n",
       "        vertical-align: middle;\n",
       "    }\n",
       "\n",
       "    .dataframe tbody tr th {\n",
       "        vertical-align: top;\n",
       "    }\n",
       "\n",
       "    .dataframe thead th {\n",
       "        text-align: right;\n",
       "    }\n",
       "</style>\n",
       "<table border=\"1\" class=\"dataframe\">\n",
       "  <thead>\n",
       "    <tr style=\"text-align: right;\">\n",
       "      <th></th>\n",
       "      <th>domestic_gross</th>\n",
       "      <th>foreign_gross</th>\n",
       "      <th>Total_Revenue</th>\n",
       "    </tr>\n",
       "  </thead>\n",
       "  <tbody>\n",
       "    <tr>\n",
       "      <th>count</th>\n",
       "      <td>1.701000e+03</td>\n",
       "      <td>1.701000e+03</td>\n",
       "      <td>1.701000e+03</td>\n",
       "    </tr>\n",
       "    <tr>\n",
       "      <th>mean</th>\n",
       "      <td>5.597406e+07</td>\n",
       "      <td>8.460974e+07</td>\n",
       "      <td>1.405838e+08</td>\n",
       "    </tr>\n",
       "    <tr>\n",
       "      <th>std</th>\n",
       "      <td>9.139882e+07</td>\n",
       "      <td>1.437055e+08</td>\n",
       "      <td>2.209891e+08</td>\n",
       "    </tr>\n",
       "    <tr>\n",
       "      <th>min</th>\n",
       "      <td>7.000000e+02</td>\n",
       "      <td>6.000000e+02</td>\n",
       "      <td>4.900000e+03</td>\n",
       "    </tr>\n",
       "    <tr>\n",
       "      <th>25%</th>\n",
       "      <td>2.500000e+06</td>\n",
       "      <td>5.200000e+06</td>\n",
       "      <td>1.196000e+07</td>\n",
       "    </tr>\n",
       "    <tr>\n",
       "      <th>50%</th>\n",
       "      <td>2.510000e+07</td>\n",
       "      <td>2.460000e+07</td>\n",
       "      <td>5.470000e+07</td>\n",
       "    </tr>\n",
       "    <tr>\n",
       "      <th>75%</th>\n",
       "      <td>6.600000e+07</td>\n",
       "      <td>8.950000e+07</td>\n",
       "      <td>1.592000e+08</td>\n",
       "    </tr>\n",
       "    <tr>\n",
       "      <th>max</th>\n",
       "      <td>9.367000e+08</td>\n",
       "      <td>9.464000e+08</td>\n",
       "      <td>1.405400e+09</td>\n",
       "    </tr>\n",
       "  </tbody>\n",
       "</table>\n",
       "</div>"
      ],
      "text/plain": [
       "       domestic_gross  foreign_gross  Total_Revenue\n",
       "count    1.701000e+03   1.701000e+03   1.701000e+03\n",
       "mean     5.597406e+07   8.460974e+07   1.405838e+08\n",
       "std      9.139882e+07   1.437055e+08   2.209891e+08\n",
       "min      7.000000e+02   6.000000e+02   4.900000e+03\n",
       "25%      2.500000e+06   5.200000e+06   1.196000e+07\n",
       "50%      2.510000e+07   2.460000e+07   5.470000e+07\n",
       "75%      6.600000e+07   8.950000e+07   1.592000e+08\n",
       "max      9.367000e+08   9.464000e+08   1.405400e+09"
      ]
     },
     "execution_count": 126,
     "metadata": {},
     "output_type": "execute_result"
    }
   ],
   "source": [
    "# check the description \n",
    "df_clean[['domestic_gross', 'foreign_gross', 'Total_Revenue']].describe()"
   ]
  },
  {
   "cell_type": "markdown",
   "metadata": {},
   "source": [
    "##### Hypthesis Testing\n",
    "##### Two_Sample t-test\n",
    "We will perform a t-test to compare the means of the revenues in the two regions. \n",
    "Our level of significance is 0.05. \n",
    "\n",
    "\n",
    "Null Hypothesis: The mean revenues for the two groups are the same.\n",
    "\n",
    "\n",
    "Alternative Hypothesis: The mean revenes for the two groups are different."
   ]
  },
  {
   "cell_type": "code",
   "execution_count": 127,
   "metadata": {},
   "outputs": [
    {
     "name": "stdout",
     "output_type": "stream",
     "text": [
      "T-statistic: -6.934628358439761\n",
      "P-value: 4.85384078108989e-12\n",
      "Null Hypothesis is rejected\n"
     ]
    }
   ],
   "source": [
    "# Calculate T-test between Domestic and Foreign Revenue\n",
    "t_stat, p_value = stats.ttest_ind(df_clean['domestic_gross'], df_clean['foreign_gross'])\n",
    "\n",
    "print(\"T-statistic:\", t_stat)\n",
    "print(\"P-value:\", p_value)\n",
    "# use if statement \n",
    "if p_value <= 0.05:\n",
    "    print(\"Null Hypothesis is rejected\")\n",
    "if p_value > 0.05:\n",
    "    print(\"Fail to reject the null hypothesis\")"
   ]
  },
  {
   "cell_type": "markdown",
   "metadata": {},
   "source": [
    "#### Interpretation\n",
    "From our output we can clearly see that p_value is less than our level of significance and therefore we reject the null hypothesis. \n",
    "This means that there is a significant variability between the means of revenues for the two regions. "
   ]
  },
  {
   "cell_type": "markdown",
   "metadata": {},
   "source": [
    "### Correlation \n",
    "A correlaion analysis between domestic and foreign revenues is neccessary to understand the strength and directon of their linear relatioships. Values range from -1 (perfect negative correlation) to 1 (perfect positive correlation)."
   ]
  },
  {
   "cell_type": "code",
   "execution_count": 128,
   "metadata": {},
   "outputs": [
    {
     "name": "stdout",
     "output_type": "stream",
     "text": [
      "0.7549260607466057\n",
      "There is a strong positive correlation\n"
     ]
    }
   ],
   "source": [
    "# calculate the correlation \n",
    "corr = df_clean[\"domestic_gross\"].corr (df_clean[\"foreign_gross\"])\n",
    "print(corr)\n",
    "# use if statement to print out the result and its strength \n",
    "if corr > 0.7:\n",
    "    print(\"There is a strong positive correlation\")\n",
    "elif corr > 0.5:\n",
    "    print(\"Moderate positive correlation\")\n",
    "elif corr > 0:\n",
    "    print(\"Weak positive correlation\")\n",
    "elif corr == 0:\n",
    "    print(\"No correlation\")\n",
    "elif corr > -0.5:\n",
    "    print(\"Weak negative correlation\")\n",
    "elif corr > -0.8:\n",
    "    print(\"Moderate negative correlation\")\n",
    "else:\n",
    "    print(\"Strong negative correlation\")\n"
   ]
  },
  {
   "cell_type": "code",
   "execution_count": 129,
   "metadata": {},
   "outputs": [
    {
     "data": {
      "image/png": "[encoded data removed]",
      "text/plain": [
       "<Figure size 864x720 with 1 Axes>"
      ]
     },
     "metadata": {
      "needs_background": "light"
     },
     "output_type": "display_data"
    }
   ],
   "source": [
    "# scatter plot for this correlation \n",
    "plt.figure(figsize=(12,10))\n",
    "sns.scatterplot(df_clean[\"domestic_gross\"], df_clean[\"foreign_gross\"], color='g')\n",
    "plt.title(\"Scatter Plot for Domestic vs Foreign Revenues in a Box Office\", fontsize=15)\n",
    "plt.xlabel(\"Domestic Revenues\", fontsize = 15)\n",
    "plt.ylabel(\"Foreign Revenues\", fontsize=15)\n",
    "plt.grid(True)\n",
    "plt.show()"
   ]
  },
  {
   "cell_type": "markdown",
   "metadata": {},
   "source": [
    "### Interpretation \n",
    "A strong correlation of 0.7 confirms to us that indeed there is a strong relatonship between the revenues in the two regions. This means that if one revenue changes, the other tend to change in a predictable and consistent manner. From the scatter plot we can see the linearity of the data of an upward trend. It indicates that as domestic revenue increase, the foreign revenue tends to increase as well. However, this does not produce a perfect line since there is variability in the data points along the trend. "
   ]
  },
  {
   "cell_type": "markdown",
   "metadata": {},
   "source": [
    "## Normality Test\n",
    "We will check to see the normality and distribution of our numerical data columns. In this case we will use the total revenue column. "
   ]
  },
  {
   "cell_type": "code",
   "execution_count": 130,
   "metadata": {},
   "outputs": [
    {
     "data": {
      "image/png": "[encoded data removed]",
      "text/plain": [
       "<Figure size 720x720 with 1 Axes>"
      ]
     },
     "metadata": {
      "needs_background": "light"
     },
     "output_type": "display_data"
    }
   ],
   "source": [
    "# use histogram plus kde plot \n",
    "plt.figure(figsize=(10, 10))\n",
    "sns.histplot(df_clean[\"Total_Revenue\"], kde=True, bins =20, color='g');\n",
    "plt.title(\"Histogram Test for Normality (Total Revenues)\", fontsize=15)\n",
    "plt.xlabel(\"Total Revenue\", fontsize = 15)\n",
    "plt.ylabel(\"Count\", fontsize=15)\n",
    "plt.grid(True)\n",
    "plt.show()"
   ]
  },
  {
   "cell_type": "markdown",
   "metadata": {},
   "source": [
    "## Observation \n",
    "From our observation, the revenue concentration is on the left, indicating that for the majority of observations, movie revenues remains at low or minimal levels. This suggests that the revenue is predominantly associated with smaller values, with relatively few instances where higher values occur. This is a perfect case of right-skewed data distribution.\n"
   ]
  },
  {
   "cell_type": "markdown",
   "metadata": {},
   "source": [
    "## Summary and Conclusion \n",
    "The analysis of movie revenues reveals an overall upward trend in revenue generation over time, indicating growth in the industry and increasing box office performance. This upward trend suggests that audiences are generally spending more on movies, possibly driven by factors such as increased ticket prices, expanded distribution channels, or more frequent high-rate releases.\n",
    "\n",
    "However, the revenue data also shows periodic volatility. These fluctuations indicate that while the industry is growing, individual movie performances can vary significantly. Such volatility might stem from seasonal variations, differences in marketing success, shifts in consumer preferences, or the impact of blockbuster releases that temporarily elevate revenue figures."
   ]
  }
 ],
 "metadata": {
  "kernelspec": {
   "display_name": "learn-env",
   "language": "python",
   "name": "python3"
  },
  "language_info": {
   "codemirror_mode": {
    "name": "ipython",
    "version": 3
   },
   "file_extension": ".py",
   "mimetype": "text/x-python",
   "name": "python",
   "nbconvert_exporter": "python",
   "pygments_lexer": "ipython3",
   "version": "3.8.5"
  }
 },
 "nbformat": 4,
 "nbformat_minor": 2
}
